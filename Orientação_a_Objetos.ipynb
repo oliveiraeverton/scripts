{
  "nbformat": 4,
  "nbformat_minor": 0,
  "metadata": {
    "colab": {
      "name": "Orientação a Objetos",
      "provenance": [],
      "authorship_tag": "ABX9TyOEIccgSCEJUXdXQ5NDnhjF",
      "include_colab_link": true
    },
    "kernelspec": {
      "name": "python3",
      "display_name": "Python 3"
    },
    "language_info": {
      "name": "python"
    }
  },
  "cells": [
    {
      "cell_type": "markdown",
      "metadata": {
        "id": "view-in-github",
        "colab_type": "text"
      },
      "source": [
        "<a href=\"https://colab.research.google.com/github/oliveiraeverton/scripts/blob/main/Orienta%C3%A7%C3%A3o_a_Objetos.ipynb\" target=\"_parent\"><img src=\"https://colab.research.google.com/assets/colab-badge.svg\" alt=\"Open In Colab\"/></a>"
      ]
    },
    {
      "cell_type": "markdown",
      "source": [
        "##🥇Orientação a Objetos🥇\n",
        "\n",
        "\n"
      ],
      "metadata": {
        "id": "tspSSDlmV75A"
      }
    },
    {
      "cell_type": "markdown",
      "source": [
        "Vamos criar um objeto que cria contasBancarias"
      ],
      "metadata": {
        "id": "BSxnlB5AWjH8"
      }
    },
    {
      "cell_type": "code",
      "execution_count": null,
      "metadata": {
        "id": "mrGYWaHDV2O5"
      },
      "outputs": [],
      "source": [
        "def criaConta(numero, titular, saldo, limite):\n",
        "  conta = {\"numero\": numero, \"titular\": titular, \"saldo\": saldo, \"limite\": limite}\n",
        "  return conta\n",
        "  #devolve um dicionario"
      ]
    },
    {
      "cell_type": "code",
      "source": [
        "conta = criaConta(123, \"Nico\", 55.0, 1000)"
      ],
      "metadata": {
        "id": "MlkXSIraXclf"
      },
      "execution_count": null,
      "outputs": []
    },
    {
      "cell_type": "code",
      "source": [
        "conta[\"numero\"]"
      ],
      "metadata": {
        "colab": {
          "base_uri": "https://localhost:8080/"
        },
        "id": "RrgUYsgoXjuK",
        "outputId": "956fd12e-05b0-4fd7-dc18-9bf08189e5b0"
      },
      "execution_count": null,
      "outputs": [
        {
          "output_type": "execute_result",
          "data": {
            "text/plain": [
              "123"
            ]
          },
          "metadata": {},
          "execution_count": 3
        }
      ]
    },
    {
      "cell_type": "code",
      "source": [
        "conta[\"titular\"]"
      ],
      "metadata": {
        "colab": {
          "base_uri": "https://localhost:8080/",
          "height": 35
        },
        "id": "LNDBErIPXmgg",
        "outputId": "5d5b4569-8346-4c04-ed2c-5cd7f9479612"
      },
      "execution_count": null,
      "outputs": [
        {
          "output_type": "execute_result",
          "data": {
            "application/vnd.google.colaboratory.intrinsic+json": {
              "type": "string"
            },
            "text/plain": [
              "'Nico'"
            ]
          },
          "metadata": {},
          "execution_count": 4
        }
      ]
    },
    {
      "cell_type": "code",
      "source": [
        "conta[\"saldo\"]"
      ],
      "metadata": {
        "colab": {
          "base_uri": "https://localhost:8080/"
        },
        "id": "wstibCsFXolg",
        "outputId": "af4e76cc-5e00-493f-abf9-4c4aee3e24cf"
      },
      "execution_count": null,
      "outputs": [
        {
          "output_type": "execute_result",
          "data": {
            "text/plain": [
              "55.0"
            ]
          },
          "metadata": {},
          "execution_count": 5
        }
      ]
    },
    {
      "cell_type": "code",
      "source": [
        "conta[\"limite\"]"
      ],
      "metadata": {
        "colab": {
          "base_uri": "https://localhost:8080/"
        },
        "id": "0mMCy04SXqrr",
        "outputId": "9b3dfeb0-0490-4fea-9657-8ec146b008ac"
      },
      "execution_count": null,
      "outputs": [
        {
          "output_type": "execute_result",
          "data": {
            "text/plain": [
              "1000"
            ]
          },
          "metadata": {},
          "execution_count": 6
        }
      ]
    },
    {
      "cell_type": "code",
      "source": [
        "conta[\"SALDO\"]"
      ],
      "metadata": {
        "colab": {
          "base_uri": "https://localhost:8080/",
          "height": 165
        },
        "id": "bCdvJz2BXsw5",
        "outputId": "46bdfd19-ec45-4941-ebf7-ff36e36abe11"
      },
      "execution_count": null,
      "outputs": [
        {
          "output_type": "error",
          "ename": "KeyError",
          "evalue": "ignored",
          "traceback": [
            "\u001b[0;31m---------------------------------------------------------------------------\u001b[0m",
            "\u001b[0;31mKeyError\u001b[0m                                  Traceback (most recent call last)",
            "\u001b[0;32m<ipython-input-7-9959ca2092d2>\u001b[0m in \u001b[0;36m<module>\u001b[0;34m()\u001b[0m\n\u001b[0;32m----> 1\u001b[0;31m \u001b[0mconta\u001b[0m\u001b[0;34m[\u001b[0m\u001b[0;34m\"SALDO\"\u001b[0m\u001b[0;34m]\u001b[0m\u001b[0;34m\u001b[0m\u001b[0;34m\u001b[0m\u001b[0m\n\u001b[0m",
            "\u001b[0;31mKeyError\u001b[0m: 'SALDO'"
          ]
        }
      ]
    },
    {
      "cell_type": "code",
      "source": [
        "def deposita(conta, valor):\n",
        "  conta[\"saldo\"] += valor\n",
        "\n",
        "def saca(conta, valor):\n",
        "  conta[\"saldo\"] -= valor\n",
        "\n",
        "def extrato(conta):\n",
        "  print(\"Saldo é {}\".format(conta[\"saldo\"]))"
      ],
      "metadata": {
        "id": "fl_9EvdjYO0j"
      },
      "execution_count": null,
      "outputs": []
    },
    {
      "cell_type": "code",
      "source": [
        "deposita(conta, 15)"
      ],
      "metadata": {
        "id": "SnOpLqjUYs_d"
      },
      "execution_count": null,
      "outputs": []
    },
    {
      "cell_type": "code",
      "source": [
        "conta[\"saldo\"]"
      ],
      "metadata": {
        "colab": {
          "base_uri": "https://localhost:8080/"
        },
        "id": "U_iybE0tY3Ko",
        "outputId": "c29512a7-214e-4ae0-eaa8-f301dee17ca8"
      },
      "execution_count": null,
      "outputs": [
        {
          "output_type": "execute_result",
          "data": {
            "text/plain": [
              "70.0"
            ]
          },
          "metadata": {},
          "execution_count": 10
        }
      ]
    },
    {
      "cell_type": "code",
      "source": [
        "saca(conta, 20)"
      ],
      "metadata": {
        "id": "qa47pLDPY55p"
      },
      "execution_count": null,
      "outputs": []
    },
    {
      "cell_type": "code",
      "source": [
        "conta[\"saldo\"]"
      ],
      "metadata": {
        "id": "i3kS5UW6Y8VX",
        "outputId": "0ee54955-a1f3-4030-c8ed-182ba5331846",
        "colab": {
          "base_uri": "https://localhost:8080/"
        }
      },
      "execution_count": null,
      "outputs": [
        {
          "output_type": "execute_result",
          "data": {
            "text/plain": [
              "50.0"
            ]
          },
          "metadata": {},
          "execution_count": 12
        }
      ]
    },
    {
      "cell_type": "code",
      "source": [
        "class ContaCorrente:\n",
        "\n",
        "  pass\n",
        "\n"
      ],
      "metadata": {
        "id": "6MI-ZOIKn88F"
      },
      "execution_count": null,
      "outputs": []
    },
    {
      "cell_type": "code",
      "source": [
        "ContaCorrente()"
      ],
      "metadata": {
        "colab": {
          "base_uri": "https://localhost:8080/"
        },
        "id": "C8rI_8i6o9y6",
        "outputId": "ce832a8b-0164-4f6b-9ff4-1dd9b67e3950"
      },
      "execution_count": null,
      "outputs": [
        {
          "output_type": "execute_result",
          "data": {
            "text/plain": [
              "<__main__.ContaCorrente at 0x7fa84f620d50>"
            ]
          },
          "metadata": {},
          "execution_count": 2
        }
      ]
    },
    {
      "cell_type": "code",
      "source": [
        "#guardando o endereço em uma referência\n",
        "conta = ContaCorrente()"
      ],
      "metadata": {
        "id": "PwqquH5opXse"
      },
      "execution_count": null,
      "outputs": []
    },
    {
      "cell_type": "code",
      "source": [
        "conta"
      ],
      "metadata": {
        "colab": {
          "base_uri": "https://localhost:8080/"
        },
        "id": "CHuNFTkUpmqU",
        "outputId": "cbd95041-4a16-43b6-a132-b7424ebf49c8"
      },
      "execution_count": null,
      "outputs": [
        {
          "output_type": "execute_result",
          "data": {
            "text/plain": [
              "<__main__.ContaCorrente at 0x7fa85578a0d0>"
            ]
          },
          "metadata": {},
          "execution_count": 4
        }
      ]
    },
    {
      "cell_type": "code",
      "source": [
        "class Users:\n",
        "  def __init__(self):\n",
        "    self.quantidadeMoradores = int(input())\n",
        "    self.consumoTotal = int(input())"
      ],
      "metadata": {
        "id": "UBXBDkb-TxUF"
      },
      "execution_count": 2,
      "outputs": []
    },
    {
      "cell_type": "code",
      "source": [
        "vetor = Users()"
      ],
      "metadata": {
        "colab": {
          "base_uri": "https://localhost:8080/"
        },
        "id": "3bsqGhcBUC2s",
        "outputId": "03612ecd-b050-44dd-b26c-f86c6ecc1ded"
      },
      "execution_count": 3,
      "outputs": [
        {
          "name": "stdout",
          "output_type": "stream",
          "text": [
            "10\n",
            "100\n"
          ]
        }
      ]
    },
    {
      "cell_type": "code",
      "source": [
        "print(vetor.consumoTotal)\n",
        "print(vetor.quantidadeMoradores)"
      ],
      "metadata": {
        "colab": {
          "base_uri": "https://localhost:8080/"
        },
        "id": "XbOfZtUYCKVh",
        "outputId": "2fa2f935-0886-47db-ef81-e3a030ca5f07"
      },
      "execution_count": 5,
      "outputs": [
        {
          "output_type": "stream",
          "name": "stdout",
          "text": [
            "100\n",
            "10\n"
          ]
        }
      ]
    },
    {
      "cell_type": "code",
      "source": [
        "testeVetor = [vetor]"
      ],
      "metadata": {
        "id": "bY-x_fudCU2W"
      },
      "execution_count": 6,
      "outputs": []
    },
    {
      "cell_type": "code",
      "source": [
        "testeVetor."
      ],
      "metadata": {
        "colab": {
          "base_uri": "https://localhost:8080/"
        },
        "id": "_fgx_MYaCZqE",
        "outputId": "7b3bb35c-fdfc-4e3a-f1cb-5749717c7a1b"
      },
      "execution_count": 7,
      "outputs": [
        {
          "output_type": "execute_result",
          "data": {
            "text/plain": [
              "[<__main__.Users at 0x7fd29c52d2d0>]"
            ]
          },
          "metadata": {},
          "execution_count": 7
        }
      ]
    },
    {
      "cell_type": "code",
      "source": [
        "class ContaCorrente:\n",
        "  #atributos\n",
        "  def __init__(self):\n",
        "    #print(\"Construindo objeto ... {}\".format(self))\n",
        "    self.numero = int(input(\"Digite o número da ContaCorrente: \"))\n",
        "    self.titular = input(\"Digite o nome do Titular: \")\n",
        "    self.saldo = int(input(\"Digite o valor depositado inicial do cliente: \"))\n",
        "    self.limite = int(input(\"Digite o limite do cliente: \"))\n",
        "  #def __init__(self, numero, titular, saldo, limite):\n",
        "   # self.numero = numero\n",
        "   # self.titular = titular\n",
        "   # self.saldo = saldo\n",
        "   # self.limite = limite\n",
        "  def deposita(self, valor):\n",
        "    self.saldo += valor\n",
        "\n",
        "  def saca(self, valor):\n",
        "    self.saldo -= valor\n",
        "\n",
        "  def extrato(conta):\n",
        "    print(\"Saldo é {}\".format(conta[\"saldo\"]))\n",
        "\n",
        "  def transfere(self, valor, destino):\n",
        "    self.saca(valor)\n",
        "    destino.deposita(valor)"
      ],
      "metadata": {
        "id": "OPRkIMjxp67H"
      },
      "execution_count": null,
      "outputs": []
    },
    {
      "cell_type": "code",
      "source": [
        "conta2 = ContaCorrente()"
      ],
      "metadata": {
        "colab": {
          "base_uri": "https://localhost:8080/"
        },
        "id": "MxmMxocFqqsX",
        "outputId": "bf20fa41-0d67-42df-8655-f03f3517be7a"
      },
      "execution_count": null,
      "outputs": [
        {
          "name": "stdout",
          "output_type": "stream",
          "text": [
            "Construindo objeto ... <__main__.ContaCorrente object at 0x7fa84f61a3d0>\n",
            "Digite o número da ContaCorrente123\n",
            "Digite o nome do TitularEverton de Oliveira\n",
            "Digite o valor depositado inicial do cliente350000000\n",
            "Digite o limite do cliente90000\n"
          ]
        }
      ]
    },
    {
      "cell_type": "code",
      "source": [
        "conta2.saldo"
      ],
      "metadata": {
        "colab": {
          "base_uri": "https://localhost:8080/"
        },
        "id": "MdAbsuEnrCP9",
        "outputId": "c6d04c92-64c7-4a31-c58f-33b777b43f5f"
      },
      "execution_count": null,
      "outputs": [
        {
          "output_type": "execute_result",
          "data": {
            "text/plain": [
              "350000000"
            ]
          },
          "metadata": {},
          "execution_count": 19
        }
      ]
    },
    {
      "cell_type": "code",
      "source": [
        "conta3 = ContaCorrente()"
      ],
      "metadata": {
        "colab": {
          "base_uri": "https://localhost:8080/",
          "height": 182
        },
        "id": "2zQHE_wVtt9L",
        "outputId": "7d0e51df-0553-4473-e631-125ac37794dd"
      },
      "execution_count": null,
      "outputs": [
        {
          "output_type": "error",
          "ename": "TypeError",
          "evalue": "ignored",
          "traceback": [
            "\u001b[0;31m---------------------------------------------------------------------------\u001b[0m",
            "\u001b[0;31mTypeError\u001b[0m                                 Traceback (most recent call last)",
            "\u001b[0;32m<ipython-input-22-5f0793815ac1>\u001b[0m in \u001b[0;36m<module>\u001b[0;34m()\u001b[0m\n\u001b[0;32m----> 1\u001b[0;31m \u001b[0mconta3\u001b[0m \u001b[0;34m=\u001b[0m \u001b[0mContaCorrente\u001b[0m\u001b[0;34m(\u001b[0m\u001b[0;34m)\u001b[0m\u001b[0;34m\u001b[0m\u001b[0;34m\u001b[0m\u001b[0m\n\u001b[0m",
            "\u001b[0;31mTypeError\u001b[0m: __init__() missing 4 required positional arguments: 'numero', 'titular', 'saldo', and 'limite'"
          ]
        }
      ]
    },
    {
      "cell_type": "code",
      "source": [
        "class Retangulo:\n",
        "\n",
        "    def __init__(self, x, y):\n",
        "      #usar dois undercore deixa os atributos privados\n",
        "        self.__x = x\n",
        "        self.__y = y\n",
        "        self.__area = x * y\n",
        "\n",
        "    def obter_area(self):\n",
        "        return self.__area"
      ],
      "metadata": {
        "id": "FrjuFDL3uFLT"
      },
      "execution_count": 2,
      "outputs": []
    },
    {
      "cell_type": "code",
      "source": [
        "r = Retangulo(7,6)\n",
        "r.area = 7\n",
        "print(r.obter_area())\n",
        "print(\"6*7 =\", 6*7)"
      ],
      "metadata": {
        "colab": {
          "base_uri": "https://localhost:8080/"
        },
        "id": "6JTC9t7rLX1i",
        "outputId": "78ac0565-2264-4882-b174-faef9020b3c8"
      },
      "execution_count": 5,
      "outputs": [
        {
          "output_type": "stream",
          "name": "stdout",
          "text": [
            "42\n",
            "6*7 = 42\n"
          ]
        }
      ]
    },
    {
      "cell_type": "code",
      "source": [
        "print(r.area)\n",
        "print(r.obter_area)"
      ],
      "metadata": {
        "colab": {
          "base_uri": "https://localhost:8080/"
        },
        "id": "1YJa2WtfLeVk",
        "outputId": "66eddb80-d788-480a-ba3f-e2ba7f2d44e2"
      },
      "execution_count": 7,
      "outputs": [
        {
          "output_type": "stream",
          "name": "stdout",
          "text": [
            "7\n",
            "<bound method Retangulo.obter_area of <__main__.Retangulo object at 0x7fe93940cd90>>\n"
          ]
        }
      ]
    },
    {
      "cell_type": "code",
      "source": [
        "r._Retangulo__area"
      ],
      "metadata": {
        "colab": {
          "base_uri": "https://localhost:8080/"
        },
        "id": "pKbuQUwlLjOI",
        "outputId": "28c1dd2b-f82d-476b-e07f-0872a13191c2"
      },
      "execution_count": null,
      "outputs": [
        {
          "output_type": "execute_result",
          "data": {
            "text/plain": [
              "42"
            ]
          },
          "metadata": {},
          "execution_count": 4
        }
      ]
    },
    {
      "cell_type": "code",
      "source": [
        "conta = ContaCorrente()"
      ],
      "metadata": {
        "colab": {
          "base_uri": "https://localhost:8080/"
        },
        "id": "yOhiCBdtNbVw",
        "outputId": "09f11b95-b2ba-48da-eb9a-496b43ac76cc"
      },
      "execution_count": null,
      "outputs": [
        {
          "name": "stdout",
          "output_type": "stream",
          "text": [
            "Digite o número da ContaCorrente: 123\n",
            "Digite o nome do Titular: Everton\n",
            "Digite o valor depositado inicial do cliente: 350000000\n",
            "Digite o limite do cliente: 90000\n"
          ]
        }
      ]
    },
    {
      "cell_type": "code",
      "source": [
        "conta2 = ContaCorrente()"
      ],
      "metadata": {
        "colab": {
          "base_uri": "https://localhost:8080/"
        },
        "id": "Vrpv6WH1NrrC",
        "outputId": "d173c9af-79c1-4f61-8305-ba9e470236b4"
      },
      "execution_count": null,
      "outputs": [
        {
          "name": "stdout",
          "output_type": "stream",
          "text": [
            "Digite o número da ContaCorrente: 124\n",
            "Digite o nome do Titular: Mom\n",
            "Digite o valor depositado inicial do cliente: 1000000\n",
            "Digite o limite do cliente: 10000\n"
          ]
        }
      ]
    },
    {
      "cell_type": "code",
      "source": [
        "conta.transfere(1000000, conta2)"
      ],
      "metadata": {
        "colab": {
          "base_uri": "https://localhost:8080/",
          "height": 165
        },
        "id": "a1gHtcOpNzI2",
        "outputId": "652204c7-f373-46c3-967e-54dc1c82ab56"
      },
      "execution_count": null,
      "outputs": [
        {
          "output_type": "error",
          "ename": "TypeError",
          "evalue": "ignored",
          "traceback": [
            "\u001b[0;31m---------------------------------------------------------------------------\u001b[0m",
            "\u001b[0;31mTypeError\u001b[0m                                 Traceback (most recent call last)",
            "\u001b[0;32m<ipython-input-28-9c7586d6b53e>\u001b[0m in \u001b[0;36m<module>\u001b[0;34m()\u001b[0m\n\u001b[0;32m----> 1\u001b[0;31m \u001b[0mconta\u001b[0m\u001b[0;34m.\u001b[0m\u001b[0mtransfere\u001b[0m\u001b[0;34m(\u001b[0m\u001b[0;36m1000000\u001b[0m\u001b[0;34m,\u001b[0m \u001b[0mconta2\u001b[0m\u001b[0;34m)\u001b[0m\u001b[0;34m\u001b[0m\u001b[0;34m\u001b[0m\u001b[0m\n\u001b[0m",
            "\u001b[0;31mTypeError\u001b[0m: transfere() missing 1 required positional argument: 'destino'"
          ]
        }
      ]
    },
    {
      "cell_type": "code",
      "source": [
        "conta2.saldo"
      ],
      "metadata": {
        "colab": {
          "base_uri": "https://localhost:8080/"
        },
        "id": "EhWF5ggzOhRE",
        "outputId": "a78067c0-cc4d-412d-8d2d-ead6050f661d"
      },
      "execution_count": null,
      "outputs": [
        {
          "output_type": "execute_result",
          "data": {
            "text/plain": [
              "2000000"
            ]
          },
          "metadata": {},
          "execution_count": 25
        }
      ]
    },
    {
      "cell_type": "markdown",
      "source": [
        "## 💎Orientação à Objetos"
      ],
      "metadata": {
        "id": "u4ZR4VZmlS-R"
      }
    },
    {
      "cell_type": "markdown",
      "source": [
        "classe conta"
      ],
      "metadata": {
        "id": "V439vif4llg-"
      }
    },
    {
      "cell_type": "code",
      "source": [
        "class Conta:\n",
        "\n",
        "  def __init__(self, numero, titular, saldo, limite):\n",
        "    print(\"Construindo um objeto... {}\".format(self))\n",
        "    self.__numero = numero\n",
        "    self.__titular = titular\n",
        "    self.__saldo = saldo\n",
        "    self.__limite = limite\n",
        "  \n",
        "  def extrato(self):\n",
        "    print(\"Saldo de {} do titular {}\".format(self.__saldo, self.__titular))\n",
        "\n",
        "  def deposita(self, valor):\n",
        "    self.__saldo += valor\n",
        "\n",
        "  def saca(self, valor):\n",
        "    self.__saldo -= valor\n",
        "\n",
        "  def transfere(self, valor, destino):\n",
        "    self.saca(valor)\n",
        "    destino.deposita(valor)\n",
        "  \n",
        "  def getSaldo(self):\n",
        "    return self.__saldo\n",
        "\n",
        "  def getLimite(self):\n",
        "    return self.__limite\n",
        "\n",
        "  def getTitular(self):\n",
        "    return self.__titular\n",
        "\n",
        "  def setLimite(self, limite):\n",
        "    self.__limite = limite\n",
        "\n",
        "  "
      ],
      "metadata": {
        "id": "68TF3_K3kPah"
      },
      "execution_count": 8,
      "outputs": []
    },
    {
      "cell_type": "markdown",
      "source": [
        "Testar as classes e os métodos:\n"
      ],
      "metadata": {
        "id": "ZJisMWLdWEJK"
      }
    },
    {
      "cell_type": "code",
      "source": [
        "conta1 = Conta(123, \"Everton de Oliveira\", 50000, 10000)\n",
        "conta2 = Conta(222, \"BÜKER\", 1000000, 100000000)"
      ],
      "metadata": {
        "colab": {
          "base_uri": "https://localhost:8080/"
        },
        "id": "reHRYPWGlriC",
        "outputId": "712eac3f-f559-41d7-cdc8-2ecc9eff5198"
      },
      "execution_count": 9,
      "outputs": [
        {
          "output_type": "stream",
          "name": "stdout",
          "text": [
            "Construindo um objeto... <__main__.Conta object at 0x7fe93938e0d0>\n",
            "Construindo um objeto... <__main__.Conta object at 0x7fe93938e510>\n"
          ]
        }
      ]
    },
    {
      "cell_type": "code",
      "source": [
        "conta2.transfere(5000, conta1)"
      ],
      "metadata": {
        "id": "kJ-N9cFil_UN"
      },
      "execution_count": 10,
      "outputs": []
    },
    {
      "cell_type": "code",
      "source": [
        "conta1.extrato()"
      ],
      "metadata": {
        "colab": {
          "base_uri": "https://localhost:8080/"
        },
        "id": "PEf3qnlnmE_U",
        "outputId": "8a183ad1-221c-4c50-d987-a58f74b245b0"
      },
      "execution_count": 11,
      "outputs": [
        {
          "output_type": "stream",
          "name": "stdout",
          "text": [
            "Saldo de 55000 do titular Everton de Oliveira\n"
          ]
        }
      ]
    },
    {
      "cell_type": "code",
      "source": [
        "class Cliente:\n",
        "\n",
        "  def __init__(self, nome):\n",
        "    self.__nome = nome\n",
        "    self.setNome()\n",
        "    print(\"O cliente foi criado com sucesso...\")\n",
        "\n",
        "  def setNome(self):\n",
        "    self.__nome = self.__nome.title()\n",
        "\n",
        "  @property\n",
        "  def nome(self):\n",
        "    #UM GET\n",
        "    return self.__nome.upper()\n",
        "\n",
        "  @nome.setter\n",
        "  def nome(self, nome):\n",
        "    #UM SET\n",
        "    self.__nome = nome"
      ],
      "metadata": {
        "id": "SxZwi5gymJY5"
      },
      "execution_count": 30,
      "outputs": []
    },
    {
      "cell_type": "code",
      "source": [
        "cliente = Cliente(\"everton de oliveira\")"
      ],
      "metadata": {
        "colab": {
          "base_uri": "https://localhost:8080/"
        },
        "id": "NI8GjDATpOjj",
        "outputId": "e76888c0-ac39-493e-ed2a-0a7bf973071e"
      },
      "execution_count": 31,
      "outputs": [
        {
          "output_type": "stream",
          "name": "stdout",
          "text": [
            "O cliente foi criado com sucesso...\n"
          ]
        }
      ]
    },
    {
      "cell_type": "code",
      "source": [
        "#teste NÃO USAR ISSO _NOMEDACLASSE__ATRIBUTO\n",
        "cliente._Cliente__nome"
      ],
      "metadata": {
        "colab": {
          "base_uri": "https://localhost:8080/",
          "height": 35
        },
        "id": "jS7OJt9npdSf",
        "outputId": "1b42a95c-8b32-4ff9-833d-a6521e19e788"
      },
      "execution_count": 32,
      "outputs": [
        {
          "output_type": "execute_result",
          "data": {
            "application/vnd.google.colaboratory.intrinsic+json": {
              "type": "string"
            },
            "text/plain": [
              "'Everton De Oliveira'"
            ]
          },
          "metadata": {},
          "execution_count": 32
        }
      ]
    },
    {
      "cell_type": "code",
      "source": [
        "cliente.nome"
      ],
      "metadata": {
        "colab": {
          "base_uri": "https://localhost:8080/",
          "height": 35
        },
        "id": "AL4Jmyxvp_vH",
        "outputId": "f00da1de-a346-4e0d-a8da-a581101eee82"
      },
      "execution_count": 33,
      "outputs": [
        {
          "output_type": "execute_result",
          "data": {
            "application/vnd.google.colaboratory.intrinsic+json": {
              "type": "string"
            },
            "text/plain": [
              "'EVERTON DE OLIVEIRA'"
            ]
          },
          "metadata": {},
          "execution_count": 33
        }
      ]
    },
    {
      "cell_type": "code",
      "source": [
        "cliente._Cliente__nome"
      ],
      "metadata": {
        "colab": {
          "base_uri": "https://localhost:8080/",
          "height": 35
        },
        "id": "L-94HsH1q9_a",
        "outputId": "6a1537a5-e316-40b4-fec8-d675c77ddf40"
      },
      "execution_count": 34,
      "outputs": [
        {
          "output_type": "execute_result",
          "data": {
            "application/vnd.google.colaboratory.intrinsic+json": {
              "type": "string"
            },
            "text/plain": [
              "'Everton De Oliveira'"
            ]
          },
          "metadata": {},
          "execution_count": 34
        }
      ]
    },
    {
      "cell_type": "code",
      "source": [
        "cliente.nome = \"ucrânia\""
      ],
      "metadata": {
        "id": "_XsTvhwRrQMu"
      },
      "execution_count": 35,
      "outputs": []
    },
    {
      "cell_type": "code",
      "source": [
        "cliente._Cliente__nome"
      ],
      "metadata": {
        "colab": {
          "base_uri": "https://localhost:8080/",
          "height": 35
        },
        "id": "vS893y00rvk-",
        "outputId": "5adfd0e5-f95c-40d2-d8aa-aa121e65bea3"
      },
      "execution_count": 36,
      "outputs": [
        {
          "output_type": "execute_result",
          "data": {
            "application/vnd.google.colaboratory.intrinsic+json": {
              "type": "string"
            },
            "text/plain": [
              "'ucrânia'"
            ]
          },
          "metadata": {},
          "execution_count": 36
        }
      ]
    },
    {
      "cell_type": "code",
      "source": [
        ""
      ],
      "metadata": {
        "id": "7IHUUzqJrxL7"
      },
      "execution_count": null,
      "outputs": []
    }
  ]
}
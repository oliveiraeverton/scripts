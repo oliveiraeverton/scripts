{
  "nbformat": 4,
  "nbformat_minor": 0,
  "metadata": {
    "colab": {
      "name": "Collection_2",
      "provenance": [],
      "authorship_tag": "ABX9TyMA5VAcjtzXKfRIfSbAqAZG",
      "include_colab_link": true
    },
    "kernelspec": {
      "name": "python3",
      "display_name": "Python 3"
    },
    "language_info": {
      "name": "python"
    }
  },
  "cells": [
    {
      "cell_type": "markdown",
      "metadata": {
        "id": "view-in-github",
        "colab_type": "text"
      },
      "source": [
        "<a href=\"https://colab.research.google.com/github/oliveiraeverton/scripts/blob/main/Collection_2.ipynb\" target=\"_parent\"><img src=\"https://colab.research.google.com/assets/colab-badge.svg\" alt=\"Open In Colab\"/></a>"
      ]
    },
    {
      "cell_type": "markdown",
      "source": [
        "# 🧑 Users!!"
      ],
      "metadata": {
        "id": "1PgfHJ11Bepv"
      }
    },
    {
      "cell_type": "code",
      "source": [
        "users1 = [15,23,43,56]\n",
        "users2 = [13,23,56,42]"
      ],
      "metadata": {
        "id": "3xW0diTuwhoE"
      },
      "execution_count": 2,
      "outputs": []
    },
    {
      "cell_type": "markdown",
      "source": [
        "# ⚓Juntar os dois users em um set\n"
      ],
      "metadata": {
        "id": "9zD0ImFyBZzv"
      }
    },
    {
      "cell_type": "code",
      "source": [
        "#Primeira Maneira:\n",
        "conjuntos = []\n",
        "conjuntos.extend(users1)\n",
        "conjuntos.extend(users2)\n",
        "print(conjuntos)"
      ],
      "metadata": {
        "colab": {
          "base_uri": "https://localhost:8080/"
        },
        "id": "SA41OWhqBOIs",
        "outputId": "671c19a7-8fa7-4920-8e1e-6fe4c5067645"
      },
      "execution_count": 5,
      "outputs": [
        {
          "output_type": "stream",
          "name": "stdout",
          "text": [
            "[15, 23, 43, 56, 13, 23, 56, 42]\n"
          ]
        }
      ]
    },
    {
      "cell_type": "code",
      "source": [
        "#Segunda Maneira:\n",
        "conjuntos2 = []\n",
        "conjuntos2 = users1.copy() + users2.copy()\n",
        "print(conjuntos2)"
      ],
      "metadata": {
        "colab": {
          "base_uri": "https://localhost:8080/"
        },
        "id": "dwNRRRa1BuBP",
        "outputId": "96fc0baa-1253-4a53-e99c-1f9a3d7fb409"
      },
      "execution_count": 9,
      "outputs": [
        {
          "output_type": "stream",
          "name": "stdout",
          "text": [
            "[15, 23, 43, 56, 13, 23, 56, 42]\n"
          ]
        }
      ]
    },
    {
      "cell_type": "code",
      "source": [
        "#Terceira Maneira:\n",
        "conjuntos3 = []\n",
        "conjuntos3 = users1.copy()\n",
        "conjuntos3.extend(users2)\n",
        "print(conjuntos3)"
      ],
      "metadata": {
        "colab": {
          "base_uri": "https://localhost:8080/"
        },
        "id": "y51_L_Z8CxY6",
        "outputId": "e245baf6-9313-4cca-ba28-d2dd6dde6ec0"
      },
      "execution_count": 15,
      "outputs": [
        {
          "output_type": "stream",
          "name": "stdout",
          "text": [
            "[15, 23, 43, 56, 13, 23, 56, 42]\n"
          ]
        }
      ]
    },
    {
      "cell_type": "markdown",
      "source": [
        "# 🧖 Conjuntos"
      ],
      "metadata": {
        "id": "J5vkCHKtDp9Y"
      }
    },
    {
      "cell_type": "code",
      "source": [
        "print(conjuntos3)\n",
        "novoConjunto = set(conjuntos3)\n",
        "print(novoConjunto)"
      ],
      "metadata": {
        "colab": {
          "base_uri": "https://localhost:8080/"
        },
        "id": "8ad4IJuIDXQH",
        "outputId": "f0d3e4b7-d581-471b-91ee-321649021577"
      },
      "execution_count": 17,
      "outputs": [
        {
          "output_type": "stream",
          "name": "stdout",
          "text": [
            "[15, 23, 43, 56, 13, 23, 56, 42]\n",
            "{42, 43, 13, 15, 23, 56}\n"
          ]
        }
      ]
    },
    {
      "cell_type": "code",
      "source": [
        "type({1,3,3,2,1,0,0,0})"
      ],
      "metadata": {
        "colab": {
          "base_uri": "https://localhost:8080/"
        },
        "id": "lELY-zvFDzFG",
        "outputId": "1f4f7cf7-1531-4d01-c514-a10c0300e542"
      },
      "execution_count": 18,
      "outputs": [
        {
          "output_type": "execute_result",
          "data": {
            "text/plain": [
              "set"
            ]
          },
          "metadata": {},
          "execution_count": 18
        }
      ]
    },
    {
      "cell_type": "code",
      "source": [
        "for i in set(conjuntos2):\n",
        "  print(i)"
      ],
      "metadata": {
        "colab": {
          "base_uri": "https://localhost:8080/"
        },
        "id": "J5AQGc3QEzaG",
        "outputId": "b6519293-ede1-4f1b-819a-0ca4c29cfd81"
      },
      "execution_count": 19,
      "outputs": [
        {
          "output_type": "stream",
          "name": "stdout",
          "text": [
            "42\n",
            "43\n",
            "13\n",
            "15\n",
            "23\n",
            "56\n"
          ]
        }
      ]
    },
    {
      "cell_type": "code",
      "source": [
        "users1 = set(users1)\n",
        "users2 = set(users2)"
      ],
      "metadata": {
        "id": "zFU_THHpGcmD"
      },
      "execution_count": 24,
      "outputs": []
    },
    {
      "cell_type": "markdown",
      "source": [
        "---\n",
        "⚡\n",
        "***Operação com conjuntos***"
      ],
      "metadata": {
        "id": "YwLtofqkGxO9"
      }
    },
    {
      "cell_type": "markdown",
      "source": [
        "🌦 União"
      ],
      "metadata": {
        "id": "Vbp3xk-3Frc9"
      }
    },
    {
      "cell_type": "code",
      "source": [
        "users1 | users2"
      ],
      "metadata": {
        "colab": {
          "base_uri": "https://localhost:8080/"
        },
        "id": "iBk_xan3FmHN",
        "outputId": "f5c1428e-d91f-4606-dfa4-6d10b2960973"
      },
      "execution_count": 25,
      "outputs": [
        {
          "output_type": "execute_result",
          "data": {
            "text/plain": [
              "{13, 15, 23, 42, 43, 56}"
            ]
          },
          "metadata": {},
          "execution_count": 25
        }
      ]
    },
    {
      "cell_type": "markdown",
      "source": [
        "---\n",
        "🌦 Intersecção"
      ],
      "metadata": {
        "id": "iroqMpFvGlW0"
      }
    },
    {
      "cell_type": "code",
      "source": [
        "users1 & users2"
      ],
      "metadata": {
        "colab": {
          "base_uri": "https://localhost:8080/"
        },
        "id": "bNL9LiN3GCjT",
        "outputId": "5b1a9fad-a9f5-4c39-ec4b-d4d68aa26fc3"
      },
      "execution_count": 26,
      "outputs": [
        {
          "output_type": "execute_result",
          "data": {
            "text/plain": [
              "{23, 56}"
            ]
          },
          "metadata": {},
          "execution_count": 26
        }
      ]
    },
    {
      "cell_type": "markdown",
      "source": [
        "---\n",
        "🌦 Complementar users1 - users2\n",
        "\"retira os elementos de users1 que aparecem em users2\""
      ],
      "metadata": {
        "id": "-SSqrw5uHQAa"
      }
    },
    {
      "cell_type": "code",
      "source": [
        "users1 - users2"
      ],
      "metadata": {
        "colab": {
          "base_uri": "https://localhost:8080/"
        },
        "id": "xI1E-p69Gs4M",
        "outputId": "6c3360d4-4ee8-4119-b9e7-d4e4cd192798"
      },
      "execution_count": 27,
      "outputs": [
        {
          "output_type": "execute_result",
          "data": {
            "text/plain": [
              "{15, 43}"
            ]
          },
          "metadata": {},
          "execution_count": 27
        }
      ]
    },
    {
      "cell_type": "markdown",
      "source": [
        "---\n",
        "🌦 Ou exclusivo: ou está em user1 ou está em users2\n",
        "não nos dois ao mesmo tempo\n",
        "\n"
      ],
      "metadata": {
        "id": "XG5JZVaKIitN"
      }
    },
    {
      "cell_type": "code",
      "source": [
        "users1 ^ users2"
      ],
      "metadata": {
        "colab": {
          "base_uri": "https://localhost:8080/"
        },
        "id": "8xyLokeqIEVK",
        "outputId": "9b367086-7412-442a-a228-afa2c5cc6324"
      },
      "execution_count": 28,
      "outputs": [
        {
          "output_type": "execute_result",
          "data": {
            "text/plain": [
              "{13, 15, 42, 43}"
            ]
          },
          "metadata": {},
          "execution_count": 28
        }
      ]
    }
  ]
}
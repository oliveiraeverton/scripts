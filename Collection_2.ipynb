{
  "nbformat": 4,
  "nbformat_minor": 0,
  "metadata": {
    "colab": {
      "name": "Collection_2",
      "provenance": [],
      "authorship_tag": "ABX9TyO3MgRk5zsoaqmkc2K5Jupo",
      "include_colab_link": true
    },
    "kernelspec": {
      "name": "python3",
      "display_name": "Python 3"
    },
    "language_info": {
      "name": "python"
    }
  },
  "cells": [
    {
      "cell_type": "markdown",
      "metadata": {
        "id": "view-in-github",
        "colab_type": "text"
      },
      "source": [
        "<a href=\"https://colab.research.google.com/github/oliveiraeverton/scripts/blob/main/Collection_2.ipynb\" target=\"_parent\"><img src=\"https://colab.research.google.com/assets/colab-badge.svg\" alt=\"Open In Colab\"/></a>"
      ]
    },
    {
      "cell_type": "markdown",
      "source": [
        "# 🧑 Users!!"
      ],
      "metadata": {
        "id": "1PgfHJ11Bepv"
      }
    },
    {
      "cell_type": "code",
      "source": [
        "users1 = [15,23,43,56]\n",
        "users2 = [13,23,56,42]"
      ],
      "metadata": {
        "id": "3xW0diTuwhoE"
      },
      "execution_count": 2,
      "outputs": []
    },
    {
      "cell_type": "markdown",
      "source": [
        "# ⚓Juntar os dois users em um set\n"
      ],
      "metadata": {
        "id": "9zD0ImFyBZzv"
      }
    },
    {
      "cell_type": "code",
      "source": [
        "#Primeira Maneira:\n",
        "conjuntos = []\n",
        "conjuntos.extend(users1)\n",
        "conjuntos.extend(users2)\n",
        "print(conjuntos)"
      ],
      "metadata": {
        "colab": {
          "base_uri": "https://localhost:8080/"
        },
        "id": "SA41OWhqBOIs",
        "outputId": "671c19a7-8fa7-4920-8e1e-6fe4c5067645"
      },
      "execution_count": 5,
      "outputs": [
        {
          "output_type": "stream",
          "name": "stdout",
          "text": [
            "[15, 23, 43, 56, 13, 23, 56, 42]\n"
          ]
        }
      ]
    },
    {
      "cell_type": "code",
      "source": [
        "#Segunda Maneira:\n",
        "conjuntos2 = []\n",
        "conjuntos2 = users1.copy() + users2.copy()\n",
        "print(conjuntos2)"
      ],
      "metadata": {
        "colab": {
          "base_uri": "https://localhost:8080/"
        },
        "id": "dwNRRRa1BuBP",
        "outputId": "96fc0baa-1253-4a53-e99c-1f9a3d7fb409"
      },
      "execution_count": 9,
      "outputs": [
        {
          "output_type": "stream",
          "name": "stdout",
          "text": [
            "[15, 23, 43, 56, 13, 23, 56, 42]\n"
          ]
        }
      ]
    },
    {
      "cell_type": "code",
      "source": [
        "#Terceira Maneira:\n",
        "conjuntos3 = []\n",
        "conjuntos3 = users1.copy()\n",
        "conjuntos3.extend(users2)\n",
        "print(conjuntos3)"
      ],
      "metadata": {
        "colab": {
          "base_uri": "https://localhost:8080/"
        },
        "id": "y51_L_Z8CxY6",
        "outputId": "e245baf6-9313-4cca-ba28-d2dd6dde6ec0"
      },
      "execution_count": 15,
      "outputs": [
        {
          "output_type": "stream",
          "name": "stdout",
          "text": [
            "[15, 23, 43, 56, 13, 23, 56, 42]\n"
          ]
        }
      ]
    },
    {
      "cell_type": "markdown",
      "source": [
        "# 🧖 Conjuntos"
      ],
      "metadata": {
        "id": "J5vkCHKtDp9Y"
      }
    },
    {
      "cell_type": "code",
      "source": [
        "print(conjuntos3)\n",
        "novoConjunto = set(conjuntos3)\n",
        "print(novoConjunto)"
      ],
      "metadata": {
        "colab": {
          "base_uri": "https://localhost:8080/"
        },
        "id": "8ad4IJuIDXQH",
        "outputId": "f0d3e4b7-d581-471b-91ee-321649021577"
      },
      "execution_count": 17,
      "outputs": [
        {
          "output_type": "stream",
          "name": "stdout",
          "text": [
            "[15, 23, 43, 56, 13, 23, 56, 42]\n",
            "{42, 43, 13, 15, 23, 56}\n"
          ]
        }
      ]
    },
    {
      "cell_type": "code",
      "source": [
        "type({1,3,3,2,1,0,0,0})"
      ],
      "metadata": {
        "colab": {
          "base_uri": "https://localhost:8080/"
        },
        "id": "lELY-zvFDzFG",
        "outputId": "1f4f7cf7-1531-4d01-c514-a10c0300e542"
      },
      "execution_count": 18,
      "outputs": [
        {
          "output_type": "execute_result",
          "data": {
            "text/plain": [
              "set"
            ]
          },
          "metadata": {},
          "execution_count": 18
        }
      ]
    },
    {
      "cell_type": "code",
      "source": [
        "for i in set(conjuntos2):\n",
        "  print(i)"
      ],
      "metadata": {
        "colab": {
          "base_uri": "https://localhost:8080/"
        },
        "id": "J5AQGc3QEzaG",
        "outputId": "b6519293-ede1-4f1b-819a-0ca4c29cfd81"
      },
      "execution_count": 19,
      "outputs": [
        {
          "output_type": "stream",
          "name": "stdout",
          "text": [
            "42\n",
            "43\n",
            "13\n",
            "15\n",
            "23\n",
            "56\n"
          ]
        }
      ]
    },
    {
      "cell_type": "code",
      "source": [
        "users1 = set(users1)\n",
        "users2 = set(users2)"
      ],
      "metadata": {
        "id": "zFU_THHpGcmD"
      },
      "execution_count": 24,
      "outputs": []
    },
    {
      "cell_type": "markdown",
      "source": [
        "---\n",
        "⚡\n",
        "***Operação com conjuntos***"
      ],
      "metadata": {
        "id": "YwLtofqkGxO9"
      }
    },
    {
      "cell_type": "markdown",
      "source": [
        "🌦 União"
      ],
      "metadata": {
        "id": "Vbp3xk-3Frc9"
      }
    },
    {
      "cell_type": "code",
      "source": [
        "users1 | users2"
      ],
      "metadata": {
        "colab": {
          "base_uri": "https://localhost:8080/"
        },
        "id": "iBk_xan3FmHN",
        "outputId": "f5c1428e-d91f-4606-dfa4-6d10b2960973"
      },
      "execution_count": 25,
      "outputs": [
        {
          "output_type": "execute_result",
          "data": {
            "text/plain": [
              "{13, 15, 23, 42, 43, 56}"
            ]
          },
          "metadata": {},
          "execution_count": 25
        }
      ]
    },
    {
      "cell_type": "markdown",
      "source": [
        "---\n",
        "🌦 Intersecção"
      ],
      "metadata": {
        "id": "iroqMpFvGlW0"
      }
    },
    {
      "cell_type": "code",
      "source": [
        "users1 & users2"
      ],
      "metadata": {
        "colab": {
          "base_uri": "https://localhost:8080/"
        },
        "id": "bNL9LiN3GCjT",
        "outputId": "5b1a9fad-a9f5-4c39-ec4b-d4d68aa26fc3"
      },
      "execution_count": 26,
      "outputs": [
        {
          "output_type": "execute_result",
          "data": {
            "text/plain": [
              "{23, 56}"
            ]
          },
          "metadata": {},
          "execution_count": 26
        }
      ]
    },
    {
      "cell_type": "markdown",
      "source": [
        "---\n",
        "🌦 Complementar users1 - users2\n",
        "\"retira os elementos de users1 que aparecem em users2\""
      ],
      "metadata": {
        "id": "-SSqrw5uHQAa"
      }
    },
    {
      "cell_type": "code",
      "source": [
        "users1 - users2"
      ],
      "metadata": {
        "colab": {
          "base_uri": "https://localhost:8080/"
        },
        "id": "xI1E-p69Gs4M",
        "outputId": "6c3360d4-4ee8-4119-b9e7-d4e4cd192798"
      },
      "execution_count": 27,
      "outputs": [
        {
          "output_type": "execute_result",
          "data": {
            "text/plain": [
              "{15, 43}"
            ]
          },
          "metadata": {},
          "execution_count": 27
        }
      ]
    },
    {
      "cell_type": "markdown",
      "source": [
        "---\n",
        "🌦 Ou exclusivo: ou está em user1 ou está em users2\n",
        "não nos dois ao mesmo tempo\n",
        "\n"
      ],
      "metadata": {
        "id": "XG5JZVaKIitN"
      }
    },
    {
      "cell_type": "code",
      "source": [
        "users1 ^ users2"
      ],
      "metadata": {
        "colab": {
          "base_uri": "https://localhost:8080/"
        },
        "id": "8xyLokeqIEVK",
        "outputId": "9b367086-7412-442a-a228-afa2c5cc6324"
      },
      "execution_count": 28,
      "outputs": [
        {
          "output_type": "execute_result",
          "data": {
            "text/plain": [
              "{13, 15, 42, 43}"
            ]
          },
          "metadata": {},
          "execution_count": 28
        }
      ]
    },
    {
      "cell_type": "markdown",
      "source": [
        "---"
      ],
      "metadata": {
        "id": "mCpX9eK4Jkm6"
      }
    },
    {
      "cell_type": "markdown",
      "source": [
        "* Utilizar o | para juntar conjuntos;\n",
        "* Utilizar o & para juntar apenas números que estão no mesmo conjunto;\n",
        "* Utilizar o - para remover números repetidos que estão no em dois conjuntos;\n",
        "* Ou (^) exclusivo.\n",
        "---"
      ],
      "metadata": {
        "id": "zvn-yRl-Kqj1"
      }
    },
    {
      "cell_type": "markdown",
      "source": [
        "🧊 Frozenset"
      ],
      "metadata": {
        "id": "fqi55JN9L5Eq"
      }
    },
    {
      "cell_type": "code",
      "source": [
        "ice = frozenset({1,2,3,6,5,2,2})"
      ],
      "metadata": {
        "id": "VOfFwc9MJlDS"
      },
      "execution_count": 30,
      "outputs": []
    },
    {
      "cell_type": "code",
      "source": [
        "print(ice)"
      ],
      "metadata": {
        "colab": {
          "base_uri": "https://localhost:8080/"
        },
        "id": "4nYa0EvfMBl6",
        "outputId": "1ba1bca9-a183-47d5-fd3f-7b5379975040"
      },
      "execution_count": 31,
      "outputs": [
        {
          "output_type": "stream",
          "name": "stdout",
          "text": [
            "frozenset({1, 2, 3, 5, 6})\n"
          ]
        }
      ]
    },
    {
      "cell_type": "code",
      "source": [
        "type(ice)"
      ],
      "metadata": {
        "colab": {
          "base_uri": "https://localhost:8080/"
        },
        "id": "ffoVbutOMHsk",
        "outputId": "c8d3cf25-5fcc-4b0e-b3fa-4374ef74f50a"
      },
      "execution_count": 32,
      "outputs": [
        {
          "output_type": "execute_result",
          "data": {
            "text/plain": [
              "frozenset"
            ]
          },
          "metadata": {},
          "execution_count": 32
        }
      ]
    },
    {
      "cell_type": "markdown",
      "source": [
        "📏 Conjuntos de string"
      ],
      "metadata": {
        "id": "05mxbBsbMhAF"
      }
    },
    {
      "cell_type": "code",
      "source": [
        "texto = \"Olá meu nome é ucrania eu vim da ucrania e eu gosto da ucraina e esse texto é sobre a ucrania\""
      ],
      "metadata": {
        "id": "s47sID61MJXj"
      },
      "execution_count": 44,
      "outputs": []
    },
    {
      "cell_type": "code",
      "source": [
        "quebra = texto.split()"
      ],
      "metadata": {
        "id": "JuzZu4TgMt9V"
      },
      "execution_count": 45,
      "outputs": []
    },
    {
      "cell_type": "code",
      "source": [
        "quebra"
      ],
      "metadata": {
        "colab": {
          "base_uri": "https://localhost:8080/"
        },
        "id": "_hGOMG06Myx3",
        "outputId": "577dcde0-64f5-48f0-cbfe-43ce207f6c12"
      },
      "execution_count": 46,
      "outputs": [
        {
          "output_type": "execute_result",
          "data": {
            "text/plain": [
              "['Olá',\n",
              " 'meu',\n",
              " 'nome',\n",
              " 'é',\n",
              " 'ucrania',\n",
              " 'eu',\n",
              " 'vim',\n",
              " 'da',\n",
              " 'ucrania',\n",
              " 'e',\n",
              " 'eu',\n",
              " 'gosto',\n",
              " 'da',\n",
              " 'ucraina',\n",
              " 'e',\n",
              " 'esse',\n",
              " 'texto',\n",
              " 'é',\n",
              " 'sobre',\n",
              " 'a',\n",
              " 'ucrania']"
            ]
          },
          "metadata": {},
          "execution_count": 46
        }
      ]
    },
    {
      "cell_type": "code",
      "source": [
        "len(quebra)"
      ],
      "metadata": {
        "colab": {
          "base_uri": "https://localhost:8080/"
        },
        "id": "cnB7r-UbM0Dr",
        "outputId": "c3ef925d-b2f5-472a-b292-828e6642f5df"
      },
      "execution_count": 47,
      "outputs": [
        {
          "output_type": "execute_result",
          "data": {
            "text/plain": [
              "21"
            ]
          },
          "metadata": {},
          "execution_count": 47
        }
      ]
    },
    {
      "cell_type": "code",
      "source": [
        "reduz_repetidos = set(quebra)"
      ],
      "metadata": {
        "id": "rZpklGPhM2oh"
      },
      "execution_count": 48,
      "outputs": []
    },
    {
      "cell_type": "code",
      "source": [
        "print(reduz_repetidos)"
      ],
      "metadata": {
        "colab": {
          "base_uri": "https://localhost:8080/"
        },
        "id": "VlzxQq-VM4-I",
        "outputId": "720bd784-10df-4c18-f68b-a92f3cd6b824"
      },
      "execution_count": 49,
      "outputs": [
        {
          "output_type": "stream",
          "name": "stdout",
          "text": [
            "{'nome', 'a', 'sobre', 'é', 'ucraina', 'ucrania', 'da', 'gosto', 'e', 'esse', 'eu', 'texto', 'vim', 'Olá', 'meu'}\n"
          ]
        }
      ]
    },
    {
      "cell_type": "code",
      "source": [
        "len(reduz_repetidos)"
      ],
      "metadata": {
        "colab": {
          "base_uri": "https://localhost:8080/"
        },
        "id": "0BAVq9biM_-v",
        "outputId": "7562d70f-0a68-463c-fff4-1b8200b517ac"
      },
      "execution_count": 50,
      "outputs": [
        {
          "output_type": "execute_result",
          "data": {
            "text/plain": [
              "15"
            ]
          },
          "metadata": {},
          "execution_count": 50
        }
      ]
    },
    {
      "cell_type": "markdown",
      "source": [
        "# ⚛ Dicionarios"
      ],
      "metadata": {
        "id": "J_2s3WFvNPrN"
      }
    },
    {
      "cell_type": "code",
      "source": [
        "dic = {'nome' : 1\n",
        "       , 'a' : 5\n",
        "       , 'sobre' : 4\n",
        "       , 'ucrina' : 9\n",
        "       , 'é' : 10}"
      ],
      "metadata": {
        "id": "eY6kC8LJNTEL"
      },
      "execution_count": 53,
      "outputs": []
    },
    {
      "cell_type": "code",
      "source": [
        "type(dic)"
      ],
      "metadata": {
        "colab": {
          "base_uri": "https://localhost:8080/"
        },
        "id": "dSbSK9NnPkE4",
        "outputId": "e46ffe9f-7044-43c9-91fb-7d31d0471473"
      },
      "execution_count": 54,
      "outputs": [
        {
          "output_type": "execute_result",
          "data": {
            "text/plain": [
              "dict"
            ]
          },
          "metadata": {},
          "execution_count": 54
        }
      ]
    },
    {
      "cell_type": "code",
      "source": [
        "dic[\"nome\"]"
      ],
      "metadata": {
        "colab": {
          "base_uri": "https://localhost:8080/"
        },
        "id": "zpZQvZAxPmE3",
        "outputId": "72169af8-8b4f-4a74-ac7d-54a1946ef5b0"
      },
      "execution_count": 55,
      "outputs": [
        {
          "output_type": "execute_result",
          "data": {
            "text/plain": [
              "1"
            ]
          },
          "metadata": {},
          "execution_count": 55
        }
      ]
    },
    {
      "cell_type": "code",
      "source": [
        "dic[\"a\"]"
      ],
      "metadata": {
        "colab": {
          "base_uri": "https://localhost:8080/"
        },
        "id": "0L2u3zUgPtOt",
        "outputId": "6b8c700b-a263-4f9b-d438-6f893667c11b"
      },
      "execution_count": 57,
      "outputs": [
        {
          "output_type": "execute_result",
          "data": {
            "text/plain": [
              "5"
            ]
          },
          "metadata": {},
          "execution_count": 57
        }
      ]
    },
    {
      "cell_type": "code",
      "source": [
        "dic[\"nãotemladentro\"]"
      ],
      "metadata": {
        "colab": {
          "base_uri": "https://localhost:8080/",
          "height": 165
        },
        "id": "7NgNy1BfPu3j",
        "outputId": "4201c20e-7bed-450a-e5cf-c7e6d8e555af"
      },
      "execution_count": 58,
      "outputs": [
        {
          "output_type": "error",
          "ename": "KeyError",
          "evalue": "ignored",
          "traceback": [
            "\u001b[0;31m---------------------------------------------------------------------------\u001b[0m",
            "\u001b[0;31mKeyError\u001b[0m                                  Traceback (most recent call last)",
            "\u001b[0;32m<ipython-input-58-6d1633b16388>\u001b[0m in \u001b[0;36m<module>\u001b[0;34m()\u001b[0m\n\u001b[0;32m----> 1\u001b[0;31m \u001b[0mdic\u001b[0m\u001b[0;34m[\u001b[0m\u001b[0;34m\"nãotemladentro\"\u001b[0m\u001b[0;34m]\u001b[0m\u001b[0;34m\u001b[0m\u001b[0;34m\u001b[0m\u001b[0m\n\u001b[0m",
            "\u001b[0;31mKeyError\u001b[0m: 'nãotemladentro'"
          ]
        }
      ]
    },
    {
      "cell_type": "code",
      "source": [
        "dic.get(\"nãotemladentro\", 0)"
      ],
      "metadata": {
        "colab": {
          "base_uri": "https://localhost:8080/"
        },
        "id": "iEdKJX-dP8as",
        "outputId": "acce1c29-13a0-4db2-9039-92e6d29f2733"
      },
      "execution_count": 60,
      "outputs": [
        {
          "output_type": "execute_result",
          "data": {
            "text/plain": [
              "0"
            ]
          },
          "metadata": {},
          "execution_count": 60
        }
      ]
    },
    {
      "cell_type": "code",
      "source": [
        "#adicionar elemento no dicionário\n",
        "\n",
        "dic[\"Everton\"] = 7"
      ],
      "metadata": {
        "id": "VbYF5aG6QByv"
      },
      "execution_count": 61,
      "outputs": []
    },
    {
      "cell_type": "code",
      "source": [
        "print(dic)"
      ],
      "metadata": {
        "colab": {
          "base_uri": "https://localhost:8080/"
        },
        "id": "FW0Aj3sRRbx9",
        "outputId": "cf60cad0-e099-4de0-9b3d-3f089593579b"
      },
      "execution_count": 62,
      "outputs": [
        {
          "output_type": "stream",
          "name": "stdout",
          "text": [
            "{'nome': 1, 'a': 5, 'sobre': 4, 'ucrina': 9, 'é': 10, 'Everton': 7}\n"
          ]
        }
      ]
    },
    {
      "cell_type": "code",
      "source": [
        "#substituir o valor\n",
        "dic[\"Everton\"] = 6"
      ],
      "metadata": {
        "id": "nTMjZMovRdXd"
      },
      "execution_count": 63,
      "outputs": []
    },
    {
      "cell_type": "code",
      "source": [
        "print(dic)"
      ],
      "metadata": {
        "colab": {
          "base_uri": "https://localhost:8080/"
        },
        "id": "_YkZ5DWORlCo",
        "outputId": "1b5d395f-67e7-46ee-c6cb-86c3df3bab13"
      },
      "execution_count": 64,
      "outputs": [
        {
          "output_type": "stream",
          "name": "stdout",
          "text": [
            "{'nome': 1, 'a': 5, 'sobre': 4, 'ucrina': 9, 'é': 10, 'Everton': 6}\n"
          ]
        }
      ]
    },
    {
      "cell_type": "code",
      "source": [
        "#remover o elemento\n",
        "del dic[\"Everton\"]"
      ],
      "metadata": {
        "id": "0OiEB2DdRmBR"
      },
      "execution_count": 65,
      "outputs": []
    },
    {
      "cell_type": "code",
      "source": [
        "print(dic)"
      ],
      "metadata": {
        "colab": {
          "base_uri": "https://localhost:8080/"
        },
        "id": "1thFiZqqRsI2",
        "outputId": "afbb817e-20ed-44c3-9a8f-678f63ad65dc"
      },
      "execution_count": 66,
      "outputs": [
        {
          "output_type": "stream",
          "name": "stdout",
          "text": [
            "{'nome': 1, 'a': 5, 'sobre': 4, 'ucrina': 9, 'é': 10}\n"
          ]
        }
      ]
    },
    {
      "cell_type": "code",
      "source": [
        "\"nome\" in dic"
      ],
      "metadata": {
        "colab": {
          "base_uri": "https://localhost:8080/"
        },
        "id": "OgcyqPpLRtVJ",
        "outputId": "0f225ffd-d0c9-48dc-957e-da60c946ca79"
      },
      "execution_count": 67,
      "outputs": [
        {
          "output_type": "execute_result",
          "data": {
            "text/plain": [
              "True"
            ]
          },
          "metadata": {},
          "execution_count": 67
        }
      ]
    },
    {
      "cell_type": "code",
      "source": [
        "\"b\" in dic"
      ],
      "metadata": {
        "colab": {
          "base_uri": "https://localhost:8080/"
        },
        "id": "exQaMPmOR-C0",
        "outputId": "6eae20ca-1377-424f-8a8a-0812371119e2"
      },
      "execution_count": 68,
      "outputs": [
        {
          "output_type": "execute_result",
          "data": {
            "text/plain": [
              "False"
            ]
          },
          "metadata": {},
          "execution_count": 68
        }
      ]
    },
    {
      "cell_type": "code",
      "source": [
        "for i in dic:\n",
        "  print(i)"
      ],
      "metadata": {
        "colab": {
          "base_uri": "https://localhost:8080/"
        },
        "id": "uqtZ656hR_44",
        "outputId": "ca478cef-8970-41c0-c0cf-eb05f64d7bdf"
      },
      "execution_count": 69,
      "outputs": [
        {
          "output_type": "stream",
          "name": "stdout",
          "text": [
            "nome\n",
            "a\n",
            "sobre\n",
            "ucrina\n",
            "é\n"
          ]
        }
      ]
    },
    {
      "cell_type": "code",
      "source": [
        "for i in dic.keys():\n",
        "  print(i)"
      ],
      "metadata": {
        "colab": {
          "base_uri": "https://localhost:8080/"
        },
        "id": "hjWZASBgSNnD",
        "outputId": "942397b0-c4e3-4eac-b406-8f601e07de45"
      },
      "execution_count": 71,
      "outputs": [
        {
          "output_type": "stream",
          "name": "stdout",
          "text": [
            "nome\n",
            "a\n",
            "sobre\n",
            "ucrina\n",
            "é\n"
          ]
        }
      ]
    },
    {
      "cell_type": "code",
      "source": [
        "for i in dic.values():\n",
        "  print(i)"
      ],
      "metadata": {
        "colab": {
          "base_uri": "https://localhost:8080/"
        },
        "id": "ac2BRptJSQII",
        "outputId": "b1a18210-f1b6-4151-ef69-433d5b628fa8"
      },
      "execution_count": 72,
      "outputs": [
        {
          "output_type": "stream",
          "name": "stdout",
          "text": [
            "1\n",
            "5\n",
            "4\n",
            "9\n",
            "10\n"
          ]
        }
      ]
    },
    {
      "cell_type": "code",
      "source": [
        "for i in dic.items():\n",
        "  print(i)"
      ],
      "metadata": {
        "colab": {
          "base_uri": "https://localhost:8080/"
        },
        "id": "rnxi3xzYSaEW",
        "outputId": "c9f5d3fd-97cb-4e70-db08-8e61129667c1"
      },
      "execution_count": 73,
      "outputs": [
        {
          "output_type": "stream",
          "name": "stdout",
          "text": [
            "('nome', 1)\n",
            "('a', 5)\n",
            "('sobre', 4)\n",
            "('ucrina', 9)\n",
            "('é', 10)\n"
          ]
        }
      ]
    },
    {
      "cell_type": "code",
      "source": [
        "for i, j in dic.items():\n",
        "  print(i, j)"
      ],
      "metadata": {
        "colab": {
          "base_uri": "https://localhost:8080/"
        },
        "id": "L6jrq50BTIh2",
        "outputId": "e141f9bd-f602-4c96-d3a7-a49a259cf83d"
      },
      "execution_count": 75,
      "outputs": [
        {
          "output_type": "stream",
          "name": "stdout",
          "text": [
            "nome 1\n",
            "a 5\n",
            "sobre 4\n",
            "ucrina 9\n",
            "é 10\n"
          ]
        }
      ]
    },
    {
      "cell_type": "code",
      "source": [
        "texto.upper()"
      ],
      "metadata": {
        "colab": {
          "base_uri": "https://localhost:8080/",
          "height": 35
        },
        "id": "2_Erz0DQbtjN",
        "outputId": "60c2aa7b-4e0f-4a9e-98e4-e4f49c7a40b0"
      },
      "execution_count": 76,
      "outputs": [
        {
          "output_type": "execute_result",
          "data": {
            "application/vnd.google.colaboratory.intrinsic+json": {
              "type": "string"
            },
            "text/plain": [
              "'OLÁ MEU NOME É UCRANIA EU VIM DA UCRANIA E EU GOSTO DA UCRAINA E ESSE TEXTO É SOBRE A UCRANIA'"
            ]
          },
          "metadata": {},
          "execution_count": 76
        }
      ]
    },
    {
      "cell_type": "code",
      "source": [
        "texto_minusculo = texto.lower()\n",
        "print(texto_minusculo)"
      ],
      "metadata": {
        "colab": {
          "base_uri": "https://localhost:8080/"
        },
        "id": "lIcn7fflcbjJ",
        "outputId": "f7222aac-fe6d-4990-ae7a-4a087a9f48d4"
      },
      "execution_count": 81,
      "outputs": [
        {
          "output_type": "stream",
          "name": "stdout",
          "text": [
            "olá meu nome é ucrania eu vim da ucrania e eu gosto da ucraina e esse texto é sobre a ucrania\n"
          ]
        }
      ]
    },
    {
      "cell_type": "code",
      "source": [
        "aparicoes = {}\n",
        "#conta a quantidade de palavras que está na variável texto\n",
        "for i in texto_minusculo.split():\n",
        "  contagem = aparicoes.get(i, 0)\n",
        "  aparicoes[i] = contagem + 1"
      ],
      "metadata": {
        "id": "cMgU7vABcr00"
      },
      "execution_count": 82,
      "outputs": []
    },
    {
      "cell_type": "code",
      "source": [
        "aparicoes"
      ],
      "metadata": {
        "colab": {
          "base_uri": "https://localhost:8080/"
        },
        "id": "UlbTACZhd3-C",
        "outputId": "d697e9cc-e5f4-44e0-ed81-38ccf7bbcae4"
      },
      "execution_count": 83,
      "outputs": [
        {
          "output_type": "execute_result",
          "data": {
            "text/plain": [
              "{'a': 1,\n",
              " 'da': 2,\n",
              " 'e': 2,\n",
              " 'esse': 1,\n",
              " 'eu': 2,\n",
              " 'gosto': 1,\n",
              " 'meu': 1,\n",
              " 'nome': 1,\n",
              " 'olá': 1,\n",
              " 'sobre': 1,\n",
              " 'texto': 1,\n",
              " 'ucraina': 1,\n",
              " 'ucrania': 3,\n",
              " 'vim': 1,\n",
              " 'é': 2}"
            ]
          },
          "metadata": {},
          "execution_count": 83
        }
      ]
    },
    {
      "cell_type": "code",
      "source": [
        "from collections import Counter\n",
        "\n",
        "repeticoes = Counter(texto_minusculo.split())\n"
      ],
      "metadata": {
        "id": "Yc8yqR_Dd5in"
      },
      "execution_count": 84,
      "outputs": []
    },
    {
      "cell_type": "code",
      "source": [
        "print(repeticoes)"
      ],
      "metadata": {
        "colab": {
          "base_uri": "https://localhost:8080/"
        },
        "id": "eJANYuwjgHnH",
        "outputId": "2ab06494-cd5c-4017-e5d8-b62d9ebf401b"
      },
      "execution_count": 85,
      "outputs": [
        {
          "output_type": "stream",
          "name": "stdout",
          "text": [
            "Counter({'ucrania': 3, 'é': 2, 'eu': 2, 'da': 2, 'e': 2, 'olá': 1, 'meu': 1, 'nome': 1, 'vim': 1, 'gosto': 1, 'ucraina': 1, 'esse': 1, 'texto': 1, 'sobre': 1, 'a': 1})\n"
          ]
        }
      ]
    },
    {
      "cell_type": "code",
      "source": [
        ""
      ],
      "metadata": {
        "id": "-zfKN1MbgJ80"
      },
      "execution_count": null,
      "outputs": []
    }
  ]
}
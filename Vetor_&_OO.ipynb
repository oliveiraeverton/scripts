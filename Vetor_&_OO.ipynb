{
  "nbformat": 4,
  "nbformat_minor": 0,
  "metadata": {
    "colab": {
      "name": "Vetor & OO",
      "provenance": [],
      "collapsed_sections": [],
      "toc_visible": true,
      "authorship_tag": "ABX9TyNs1XgmvYh976Jah5Xi9umR",
      "include_colab_link": true
    },
    "kernelspec": {
      "name": "python3",
      "display_name": "Python 3"
    },
    "language_info": {
      "name": "python"
    }
  },
  "cells": [
    {
      "cell_type": "markdown",
      "metadata": {
        "id": "view-in-github",
        "colab_type": "text"
      },
      "source": [
        "<a href=\"https://colab.research.google.com/github/oliveiraeverton/scripts/blob/main/Vetor_%26_OO.ipynb\" target=\"_parent\"><img src=\"https://colab.research.google.com/assets/colab-badge.svg\" alt=\"Open In Colab\"/></a>"
      ]
    },
    {
      "cell_type": "markdown",
      "source": [
        "##TESTE PARA CRIAR UMA CLASSE + VETOR"
      ],
      "metadata": {
        "id": "h9lqbOJYtYxx"
      }
    },
    {
      "cell_type": "code",
      "execution_count": null,
      "metadata": {
        "id": "pb8Ve4FeCllr"
      },
      "outputs": [],
      "source": [
        "class Users:\n",
        "  def __init__(self):\n",
        "    self.quantidadeMoradores = int(input())\n",
        "    self.consumoTotal = int(input())"
      ]
    },
    {
      "cell_type": "code",
      "source": [
        "i = 3\n",
        "vetor = []\n",
        "while(i>0):\n",
        "  valores = Users()\n",
        "  vetor.append(valores)\n",
        "  i -= 1\n"
      ],
      "metadata": {
        "colab": {
          "base_uri": "https://localhost:8080/"
        },
        "id": "5KKFLOnfCrWy",
        "outputId": "30066466-91ff-40b2-bf1f-49b72a2d2bc6"
      },
      "execution_count": null,
      "outputs": [
        {
          "name": "stdout",
          "output_type": "stream",
          "text": [
            "10\n",
            "100\n",
            "5\n",
            "75\n",
            "3\n",
            "77\n"
          ]
        }
      ]
    },
    {
      "cell_type": "code",
      "source": [
        "i = 2\n",
        "while(i >= 0):\n",
        "  print(vetor[i].quantidadeMoradores , ' ' , vetor[i].consumoTotal)\n",
        "  i -= 1"
      ],
      "metadata": {
        "colab": {
          "base_uri": "https://localhost:8080/"
        },
        "id": "F_di5VI6CwjQ",
        "outputId": "3f8dcf6d-40d7-4f3a-988b-a2c20bff5e7b"
      },
      "execution_count": null,
      "outputs": [
        {
          "output_type": "stream",
          "name": "stdout",
          "text": [
            "3   77\n",
            "5   75\n",
            "10   100\n"
          ]
        }
      ]
    },
    {
      "cell_type": "markdown",
      "source": [
        "##TESTE ORDENACAO"
      ],
      "metadata": {
        "id": "h4gtUHjVtU0O"
      }
    },
    {
      "cell_type": "code",
      "source": [
        "vetor.sorted().consumoTotal"
      ],
      "metadata": {
        "colab": {
          "base_uri": "https://localhost:8080/",
          "height": 165
        },
        "id": "9kd2IMUaDbik",
        "outputId": "b7b41d33-c971-4e6a-f496-fdded2d5fe06"
      },
      "execution_count": null,
      "outputs": [
        {
          "output_type": "error",
          "ename": "AttributeError",
          "evalue": "ignored",
          "traceback": [
            "\u001b[0;31m---------------------------------------------------------------------------\u001b[0m",
            "\u001b[0;31mAttributeError\u001b[0m                            Traceback (most recent call last)",
            "\u001b[0;32m<ipython-input-19-ef6ebfb66c13>\u001b[0m in \u001b[0;36m<module>\u001b[0;34m()\u001b[0m\n\u001b[0;32m----> 1\u001b[0;31m \u001b[0mvetor\u001b[0m\u001b[0;34m.\u001b[0m\u001b[0msorted\u001b[0m\u001b[0;34m(\u001b[0m\u001b[0;34m)\u001b[0m\u001b[0;34m.\u001b[0m\u001b[0mconsumoTotal\u001b[0m\u001b[0;34m\u001b[0m\u001b[0;34m\u001b[0m\u001b[0m\n\u001b[0m",
            "\u001b[0;31mAttributeError\u001b[0m: 'list' object has no attribute 'sorted'"
          ]
        }
      ]
    },
    {
      "cell_type": "code",
      "source": [
        "sorted(vetor.consumoTotal)"
      ],
      "metadata": {
        "colab": {
          "base_uri": "https://localhost:8080/",
          "height": 165
        },
        "id": "h45ou10xD7az",
        "outputId": "6b66e423-8e8e-4bf9-8b55-659966347e46"
      },
      "execution_count": null,
      "outputs": [
        {
          "output_type": "error",
          "ename": "AttributeError",
          "evalue": "ignored",
          "traceback": [
            "\u001b[0;31m---------------------------------------------------------------------------\u001b[0m",
            "\u001b[0;31mAttributeError\u001b[0m                            Traceback (most recent call last)",
            "\u001b[0;32m<ipython-input-21-1f2d4308ac86>\u001b[0m in \u001b[0;36m<module>\u001b[0;34m()\u001b[0m\n\u001b[0;32m----> 1\u001b[0;31m \u001b[0msorted\u001b[0m\u001b[0;34m(\u001b[0m\u001b[0mvetor\u001b[0m\u001b[0;34m.\u001b[0m\u001b[0mconsumoTotal\u001b[0m\u001b[0;34m)\u001b[0m\u001b[0;34m\u001b[0m\u001b[0;34m\u001b[0m\u001b[0m\n\u001b[0m",
            "\u001b[0;31mAttributeError\u001b[0m: 'list' object has no attribute 'consumoTotal'"
          ]
        }
      ]
    },
    {
      "cell_type": "code",
      "source": [
        "vetor.sorted(key=consumoTotal)"
      ],
      "metadata": {
        "colab": {
          "base_uri": "https://localhost:8080/",
          "height": 165
        },
        "id": "k7Zgf-dREn40",
        "outputId": "bb43f113-345b-4472-b44b-c3c36b268a07"
      },
      "execution_count": null,
      "outputs": [
        {
          "output_type": "error",
          "ename": "AttributeError",
          "evalue": "ignored",
          "traceback": [
            "\u001b[0;31m---------------------------------------------------------------------------\u001b[0m",
            "\u001b[0;31mAttributeError\u001b[0m                            Traceback (most recent call last)",
            "\u001b[0;32m<ipython-input-22-11854712e335>\u001b[0m in \u001b[0;36m<module>\u001b[0;34m()\u001b[0m\n\u001b[0;32m----> 1\u001b[0;31m \u001b[0mvetor\u001b[0m\u001b[0;34m.\u001b[0m\u001b[0msorted\u001b[0m\u001b[0;34m(\u001b[0m\u001b[0mkey\u001b[0m\u001b[0;34m=\u001b[0m\u001b[0mconsumoTotal\u001b[0m\u001b[0;34m)\u001b[0m\u001b[0;34m\u001b[0m\u001b[0;34m\u001b[0m\u001b[0m\n\u001b[0m",
            "\u001b[0;31mAttributeError\u001b[0m: 'list' object has no attribute 'sorted'"
          ]
        }
      ]
    },
    {
      "cell_type": "markdown",
      "source": [
        "## ⭕ MÃO NA MASSA"
      ],
      "metadata": {
        "id": "wmVvvPBpthSn"
      }
    },
    {
      "cell_type": "code",
      "source": [
        "from operator import attrgetter"
      ],
      "metadata": {
        "id": "0CsJpCRNE4FB"
      },
      "execution_count": null,
      "outputs": []
    },
    {
      "cell_type": "code",
      "source": [
        "vetor = sorted(vetor, key=attrgetter('consumoTotal'), reverse=True)"
      ],
      "metadata": {
        "id": "OUJfBPLIFgf2"
      },
      "execution_count": null,
      "outputs": []
    },
    {
      "cell_type": "code",
      "source": [
        "i = 2\n",
        "while(i >= 0):\n",
        "  print(vetor[i].quantidadeMoradores , ' ' , vetor[i].consumoTotal)\n",
        "  i -= 1"
      ],
      "metadata": {
        "colab": {
          "base_uri": "https://localhost:8080/"
        },
        "id": "frhYDBCoFpWU",
        "outputId": "6adeea5e-92f0-4c94-fe1d-08830227a0fe"
      },
      "execution_count": null,
      "outputs": [
        {
          "output_type": "stream",
          "name": "stdout",
          "text": [
            "5   75\n",
            "3   77\n",
            "10   100\n"
          ]
        }
      ]
    },
    {
      "cell_type": "code",
      "source": [
        "from operator import attrgetter\n",
        "class Users:\n",
        "  def __init__(self, x, y):\n",
        "    self.quantidadeMoradores = x\n",
        "    self.consumoTotal = y\n",
        "\n",
        "\n",
        "entrada = int(input())\n",
        "cidade = 0\n",
        "\n",
        "while(entrada != 0):\n",
        "  \n",
        "  contagemMorador = 0\n",
        "  consumoRodada = 0\n",
        "  cidade += 1\n",
        "  rodada = entrada\n",
        "  lista = []\n",
        "  while(entrada>0):\n",
        "    entrada -= 1\n",
        "\n",
        "    x, y = map(int, input().split())\n",
        "    contagemMorador += x\n",
        "    consumoRodada += y\n",
        "    lista.append(Users(x, y//x))\n",
        "\n",
        "\n",
        "  \n",
        "  vetor = sorted(lista, key=attrgetter('consumoTotal'))\n",
        "  print(\"Cidade# {}\".format(cidade))\n",
        "  i = 0\n",
        "  while(i < rodada):\n",
        "    print(\"{}-{} \".format(vetor[i].quantidadeMoradores, vetor[i].consumoTotal), end=\"\")\n",
        "    i += 1\n",
        "  print()\n",
        "  texto = str(consumoRodada/contagemMorador) + \"0\"\n",
        "  posicao = texto.find('.')\n",
        "  print(\"Consumo medio: {} m3.\".format(texto[0:posicao+2]))\n",
        "  print()\n",
        "  entrada = int(input())"
      ],
      "metadata": {
        "colab": {
          "base_uri": "https://localhost:8080/"
        },
        "id": "tnZdb8k4FwXy",
        "outputId": "7dbd7998-22d4-4734-96e6-5c54b9deccc4"
      },
      "execution_count": null,
      "outputs": [
        {
          "name": "stdout",
          "output_type": "stream",
          "text": [
            "3\n",
            "3 22\n",
            "2 11\n",
            "3 39\n",
            "Cidade# 1\n",
            "3-7 2-5 3-13 \n",
            "Consumo medio: 9.00 m3.\n",
            "\n",
            "5\n",
            "1 25\n",
            "2 20\n",
            "3 31\n",
            "2 40\n",
            "6 70\n",
            "Cidade# 2\n",
            "1-25 2-10 3-10 2-20 6-11 \n",
            "Consumo medio: 13.28 m3.\n",
            "\n",
            "2\n",
            "1 1\n",
            "3 2\n",
            "Cidade# 3\n",
            "1-1 3-0 \n",
            "Consumo medio: 0.75 m3.\n",
            "\n",
            "0\n"
          ]
        }
      ]
    },
    {
      "cell_type": "markdown",
      "source": [
        "TRATANDO TRUNCAMENTO DO CÁLCULO"
      ],
      "metadata": {
        "id": "_o1Z5WqDtvn9"
      }
    },
    {
      "cell_type": "markdown",
      "source": [
        "TESTES PARA TRUNCAMENTO"
      ],
      "metadata": {
        "id": "-dBg5_iit3nk"
      }
    },
    {
      "cell_type": "code",
      "source": [
        "texto = str(consumoRodada/contagemMorador)\n",
        "posicao = texto.find('.')"
      ],
      "metadata": {
        "id": "zBnmqYzZIMFI"
      },
      "execution_count": null,
      "outputs": []
    },
    {
      "cell_type": "code",
      "source": [
        "posicao"
      ],
      "metadata": {
        "colab": {
          "base_uri": "https://localhost:8080/"
        },
        "id": "h6vVG4GQOQmq",
        "outputId": "5ba5fdf2-f64d-4555-af9b-57aeca9a087b"
      },
      "execution_count": null,
      "outputs": [
        {
          "output_type": "execute_result",
          "data": {
            "text/plain": [
              "2"
            ]
          },
          "metadata": {},
          "execution_count": 49
        }
      ]
    },
    {
      "cell_type": "code",
      "source": [
        "math.trunc(13.2857142855)"
      ],
      "metadata": {
        "colab": {
          "base_uri": "https://localhost:8080/"
        },
        "id": "pr-WTdxxM2EL",
        "outputId": "5db8a336-dac4-475c-c2db-f9e05627d3c3"
      },
      "execution_count": null,
      "outputs": [
        {
          "output_type": "execute_result",
          "data": {
            "text/plain": [
              "13"
            ]
          },
          "metadata": {},
          "execution_count": 46
        }
      ]
    },
    {
      "cell_type": "code",
      "source": [
        "\n",
        "lista.sort(key=attrgetter('consumoTotal'))"
      ],
      "metadata": {
        "id": "9iCmqBQZM9Xy"
      },
      "execution_count": null,
      "outputs": []
    },
    {
      "cell_type": "code",
      "source": [
        "print(lista[1].quantidadeMoradores)\n",
        "print(lista[0].quantidadeMoradores)\n"
      ],
      "metadata": {
        "colab": {
          "base_uri": "https://localhost:8080/"
        },
        "id": "tgZA4bC1RxK8",
        "outputId": "5d4f7348-eac6-4b58-f74f-484bdfd61e7c"
      },
      "execution_count": null,
      "outputs": [
        {
          "output_type": "stream",
          "name": "stdout",
          "text": [
            "1\n",
            "3\n"
          ]
        }
      ]
    },
    {
      "cell_type": "markdown",
      "source": [
        "🙆 Código Final Funcionando\n",
        "\n",
        "\n",
        "tempo limite excedido por 1 segundo"
      ],
      "metadata": {
        "id": "8RZQ-BWxt_rr"
      }
    },
    {
      "cell_type": "code",
      "source": [
        "from operator import attrgetter\n",
        "class Users:\n",
        "  def __init__(self, x, y):\n",
        "    self.quantidadeMoradores = x\n",
        "    self.consumoTotal = y\n",
        "\n",
        "\n",
        "entrada = int(input())\n",
        "cidade = 0\n",
        "\n",
        "while(entrada != 0):\n",
        "  \n",
        "  contagemMorador = 0\n",
        "  consumoRodada = 0\n",
        "  cidade += 1\n",
        "  rodada = entrada\n",
        "  lista = []\n",
        "  while(entrada>0):\n",
        "    entrada -= 1\n",
        "\n",
        "    x, y = map(int, input().split())\n",
        "    contagemMorador += x\n",
        "    consumoRodada += y\n",
        "    lista.append(Users(x, y//x))\n",
        "\n",
        "\n",
        "  \n",
        "  lista.sort(key=attrgetter('consumoTotal'))\n",
        "  print(\"Cidade# {}\".format(cidade))\n",
        "  i = 0\n",
        "  while(i < rodada):\n",
        "    print(\"{}-{} \".format(lista[i].quantidadeMoradores, lista[i].consumoTotal), end=\"\")\n",
        "    i += 1\n",
        "  print()\n",
        "  texto = str(consumoRodada/contagemMorador) + \"00\"\n",
        "  posicao = texto.find('.')\n",
        "  print(\"Consumo medio: {} m3.\".format(texto[0:posicao+3]))\n",
        "  entrada = int(input())\n",
        "  if(entrada!=0):\n",
        "    print()"
      ],
      "metadata": {
        "colab": {
          "base_uri": "https://localhost:8080/"
        },
        "id": "83wlsLwnRypz",
        "outputId": "532bea3c-59ea-49d7-df50-4c619af58f4e"
      },
      "execution_count": null,
      "outputs": [
        {
          "name": "stdout",
          "output_type": "stream",
          "text": [
            "3\n",
            "3 22\n",
            "2 11\n",
            "3 39\n",
            "Cidade# 1\n",
            "2-5 3-7 3-13 \n",
            "Consumo medio: 9.00 m3.\n",
            "\n",
            "5\n",
            "1 25\n",
            "2 20\n",
            "3 31\n",
            "2 40\n",
            "6 70\n",
            "Cidade# 2\n",
            "2-10 3-10 6-11 2-20 1-25 \n",
            "Consumo medio: 13.28 m3.\n",
            "\n",
            "2\n",
            "1 1\n",
            "3 2\n",
            "Cidade# 3\n",
            "3-0 1-1 \n",
            "Consumo medio: 0.75 m3.\n",
            "\n",
            "0\n"
          ]
        }
      ]
    }
  ]
}
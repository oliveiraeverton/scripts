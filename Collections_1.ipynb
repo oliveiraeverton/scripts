{
  "nbformat": 4,
  "nbformat_minor": 0,
  "metadata": {
    "colab": {
      "name": "Collections_1",
      "provenance": [],
      "authorship_tag": "ABX9TyM43VtD5b8JNxR95Tg7woaB",
      "include_colab_link": true
    },
    "kernelspec": {
      "name": "python3",
      "display_name": "Python 3"
    },
    "language_info": {
      "name": "python"
    }
  },
  "cells": [
    {
      "cell_type": "markdown",
      "metadata": {
        "id": "view-in-github",
        "colab_type": "text"
      },
      "source": [
        "<a href=\"https://colab.research.google.com/github/oliveiraeverton/scripts/blob/main/Collections_1.ipynb\" target=\"_parent\"><img src=\"https://colab.research.google.com/assets/colab-badge.svg\" alt=\"Open In Colab\"/></a>"
      ]
    },
    {
      "cell_type": "markdown",
      "source": [
        "# 💻 Listas e tuplas"
      ],
      "metadata": {
        "id": "l48Oeb6gZ68w"
      }
    },
    {
      "cell_type": "code",
      "execution_count": null,
      "metadata": {
        "colab": {
          "base_uri": "https://localhost:8080/"
        },
        "id": "nAMU7q9tZ4b_",
        "outputId": "598b74b2-3cc9-4646-d758-3cd2f95bae95"
      },
      "outputs": [
        {
          "output_type": "stream",
          "name": "stdout",
          "text": [
            "39\n",
            "60\n",
            "27\n",
            "18\n"
          ]
        }
      ],
      "source": [
        "idade1 = 39 \n",
        "idade2 = 60\n",
        "idade3 = 27\n",
        "idade4 = 18\n",
        "\n",
        "print(idade1)\n",
        "print(idade2)\n",
        "print(idade3)\n",
        "print(idade4)"
      ]
    },
    {
      "cell_type": "code",
      "source": [
        "#CRIANDO UMA LISTA\n",
        "idades = [39, 60, 27, 18]"
      ],
      "metadata": {
        "id": "bBEDKDi1aTEp"
      },
      "execution_count": null,
      "outputs": []
    },
    {
      "cell_type": "code",
      "source": [
        "type(idades)"
      ],
      "metadata": {
        "colab": {
          "base_uri": "https://localhost:8080/"
        },
        "id": "SIUgHklKa5fv",
        "outputId": "8f5d5729-0a93-4cd2-9931-34979598836a"
      },
      "execution_count": null,
      "outputs": [
        {
          "output_type": "execute_result",
          "data": {
            "text/plain": [
              "list"
            ]
          },
          "metadata": {},
          "execution_count": 7
        }
      ]
    },
    {
      "cell_type": "markdown",
      "source": [
        "O que podemos fazer com uma lista??"
      ],
      "metadata": {
        "id": "C-Ak9cekauhm"
      }
    },
    {
      "cell_type": "code",
      "source": [
        "#Acessar cada elemento da lista por um índice\n",
        "print(idades[0])\n",
        "print(idades[1])\n",
        "print(idades[2])\n",
        "print(idades[3])"
      ],
      "metadata": {
        "colab": {
          "base_uri": "https://localhost:8080/"
        },
        "id": "JSpmxjZOaUOZ",
        "outputId": "1a7bf5a3-aa93-4155-9514-558dbcb4a30c"
      },
      "execution_count": null,
      "outputs": [
        {
          "output_type": "stream",
          "name": "stdout",
          "text": [
            "39\n",
            "60\n",
            "27\n",
            "18\n"
          ]
        }
      ]
    },
    {
      "cell_type": "code",
      "source": [
        "print(idades)"
      ],
      "metadata": {
        "colab": {
          "base_uri": "https://localhost:8080/"
        },
        "id": "C2B1A6_NbUd3",
        "outputId": "1767abc5-708c-4745-c8c7-5142da2c355d"
      },
      "execution_count": null,
      "outputs": [
        {
          "output_type": "stream",
          "name": "stdout",
          "text": [
            "[39, 60, 27, 18]\n"
          ]
        }
      ]
    },
    {
      "cell_type": "code",
      "source": [
        "#Saber quantos elementos existe na lista\n",
        "len(idades)"
      ],
      "metadata": {
        "colab": {
          "base_uri": "https://localhost:8080/"
        },
        "id": "RApK4opQaUzk",
        "outputId": "e9bb29d4-3926-463b-f66f-6fb650e45bfe"
      },
      "execution_count": null,
      "outputs": [
        {
          "output_type": "execute_result",
          "data": {
            "text/plain": [
              "4"
            ]
          },
          "metadata": {},
          "execution_count": 10
        }
      ]
    },
    {
      "cell_type": "code",
      "source": [
        "#Adicionar mais elementos na última posição\n",
        "\n",
        "idades.append(9)\n",
        "print(idades[4])\n",
        "print(idades)"
      ],
      "metadata": {
        "colab": {
          "base_uri": "https://localhost:8080/"
        },
        "id": "nLEWFXj2bP9k",
        "outputId": "08bfd3de-0438-40e1-f50b-091d96b69c93"
      },
      "execution_count": null,
      "outputs": [
        {
          "output_type": "stream",
          "name": "stdout",
          "text": [
            "60\n",
            "[20, 20, 20, 39, 60, 27, 18, 9]\n"
          ]
        }
      ]
    },
    {
      "cell_type": "code",
      "source": [
        "print(idades[-1])"
      ],
      "metadata": {
        "colab": {
          "base_uri": "https://localhost:8080/"
        },
        "id": "Oe4Hcz36bkao",
        "outputId": "f27bdb97-d049-4604-8dde-aac1fbb1fb61"
      },
      "execution_count": null,
      "outputs": [
        {
          "output_type": "stream",
          "name": "stdout",
          "text": [
            "9\n"
          ]
        }
      ]
    },
    {
      "cell_type": "code",
      "source": [
        "#Remover um elemento específico\n",
        "#remove a primeira aparição do elemento específico\n",
        "print(idades)\n",
        "idades.remove(9)\n",
        "print(idades)"
      ],
      "metadata": {
        "colab": {
          "base_uri": "https://localhost:8080/"
        },
        "id": "7dOpB8egbwU0",
        "outputId": "7fbafb22-062e-49a5-a111-0c690cdf3103"
      },
      "execution_count": null,
      "outputs": [
        {
          "output_type": "stream",
          "name": "stdout",
          "text": [
            "[39, 60, 27, 18, 9]\n",
            "[39, 60, 27, 18]\n"
          ]
        }
      ]
    },
    {
      "cell_type": "code",
      "source": [
        "try:\n",
        "  idades.remove(9)\n",
        "except:\n",
        "  print(\"Não existe mais esse elemento para ser removido\")"
      ],
      "metadata": {
        "colab": {
          "base_uri": "https://localhost:8080/"
        },
        "id": "2QEGsbcOcxGc",
        "outputId": "f1fb8749-c69e-42a1-a066-522d7b51edfc"
      },
      "execution_count": null,
      "outputs": [
        {
          "output_type": "stream",
          "name": "stdout",
          "text": [
            "Não existe mais esse elemento para ser removido\n"
          ]
        }
      ]
    },
    {
      "cell_type": "code",
      "source": [
        "#Verificar se existe algum elemento dentro da lista\n",
        "39 in idades"
      ],
      "metadata": {
        "colab": {
          "base_uri": "https://localhost:8080/"
        },
        "id": "VSAqbSeYhcQQ",
        "outputId": "07ef4a8e-1093-4ef5-907a-3385710dd4cc"
      },
      "execution_count": null,
      "outputs": [
        {
          "output_type": "execute_result",
          "data": {
            "text/plain": [
              "True"
            ]
          },
          "metadata": {},
          "execution_count": 49
        }
      ]
    },
    {
      "cell_type": "code",
      "source": [
        "#Adicionar um elemento na posição desejada\n",
        "#insert(POSIÇÃO_DESEJADA, ELEMENTO)\n",
        "print(idades)\n",
        "idades.insert(0, 20)\n",
        "print(idades)"
      ],
      "metadata": {
        "colab": {
          "base_uri": "https://localhost:8080/"
        },
        "id": "Iz4qV3ORhtBK",
        "outputId": "9c6457e5-a1b7-449c-e4e9-d151f8671449"
      },
      "execution_count": null,
      "outputs": [
        {
          "output_type": "stream",
          "name": "stdout",
          "text": [
            "[39, 60, 27, 18, 9]\n",
            "[20, 39, 60, 27, 18, 9]\n"
          ]
        }
      ]
    },
    {
      "cell_type": "code",
      "source": [
        "#Adicionar vários elementos de uma única vez\n",
        "idades.extend([4,9,16,25])"
      ],
      "metadata": {
        "id": "0UsmRX6MiKx1"
      },
      "execution_count": null,
      "outputs": []
    },
    {
      "cell_type": "code",
      "source": [
        "print(idades)"
      ],
      "metadata": {
        "colab": {
          "base_uri": "https://localhost:8080/"
        },
        "id": "Yt2JjaLNimQx",
        "outputId": "dfe7da46-aa1f-4a5d-d09e-32e37e2ede45"
      },
      "execution_count": null,
      "outputs": [
        {
          "output_type": "stream",
          "name": "stdout",
          "text": [
            "[20, 39, 60, 27, 18, 9, 4, 9, 16, 25]\n"
          ]
        }
      ]
    },
    {
      "cell_type": "code",
      "source": [
        "#Remover o último elemento\n",
        "#pop() remove o último elemento da lista e retorna o elemento que ele retirou\n",
        "idades.pop()"
      ],
      "metadata": {
        "colab": {
          "base_uri": "https://localhost:8080/"
        },
        "id": "mGi424sFb69q",
        "outputId": "cc645d34-4e05-4917-a8cb-01640d8f99c8"
      },
      "execution_count": null,
      "outputs": [
        {
          "output_type": "execute_result",
          "data": {
            "text/plain": [
              "25"
            ]
          },
          "metadata": {},
          "execution_count": 62
        }
      ]
    },
    {
      "cell_type": "code",
      "source": [
        "print(idades)"
      ],
      "metadata": {
        "colab": {
          "base_uri": "https://localhost:8080/"
        },
        "id": "anRoiNvMizuj",
        "outputId": "e6c5aee9-a410-449c-feac-2455d689a9c5"
      },
      "execution_count": null,
      "outputs": [
        {
          "output_type": "stream",
          "name": "stdout",
          "text": [
            "[20, 39, 60, 27, 18, 9, 4, 9, 16]\n"
          ]
        }
      ]
    },
    {
      "cell_type": "markdown",
      "source": [
        "# ⚡ For: sintaxes diferenciadas"
      ],
      "metadata": {
        "id": "KM3LUcR3i98W"
      }
    },
    {
      "cell_type": "code",
      "source": [
        "for elemento in idades:\n",
        "  print(elemento)"
      ],
      "metadata": {
        "colab": {
          "base_uri": "https://localhost:8080/"
        },
        "id": "OULjNap7gnul",
        "outputId": "a3b59bdd-6eb9-479d-ec13-3d0bd6933476"
      },
      "execution_count": null,
      "outputs": [
        {
          "output_type": "stream",
          "name": "stdout",
          "text": [
            "20\n",
            "39\n",
            "60\n",
            "27\n",
            "18\n",
            "9\n",
            "4\n",
            "9\n",
            "16\n"
          ]
        }
      ]
    },
    {
      "cell_type": "code",
      "source": [
        "idadesAnoQueVem = []\n",
        "\n",
        "for elemento in idades:\n",
        "  idadesAnoQueVem.append(elemento+1)"
      ],
      "metadata": {
        "id": "4Ji1x5zWjK_I"
      },
      "execution_count": null,
      "outputs": []
    },
    {
      "cell_type": "code",
      "source": [
        "print(idadesAnoQueVem)"
      ],
      "metadata": {
        "colab": {
          "base_uri": "https://localhost:8080/"
        },
        "id": "cCBHST9Mjg7b",
        "outputId": "5f0a3808-c3d7-43ad-d1ba-7aba7f63ea75"
      },
      "execution_count": null,
      "outputs": [
        {
          "output_type": "stream",
          "name": "stdout",
          "text": [
            "[21, 40, 61, 28, 19, 10, 5, 10, 17]\n"
          ]
        }
      ]
    },
    {
      "cell_type": "code",
      "source": [
        "print(idades)\n",
        "novaListaIdadesMaisUma = [(elemento+1) for elemento in idades]\n",
        "print(novaListaIdadesMaisUma)\n",
        "print(idades)"
      ],
      "metadata": {
        "colab": {
          "base_uri": "https://localhost:8080/"
        },
        "id": "nML6dRcgjjYN",
        "outputId": "064f1892-7576-47e5-95fa-921ca1eaf70f"
      },
      "execution_count": null,
      "outputs": [
        {
          "output_type": "stream",
          "name": "stdout",
          "text": [
            "[20, 39, 60, 27, 18, 9, 4, 9, 16]\n",
            "[21, 40, 61, 28, 19, 10, 5, 10, 17]\n",
            "[20, 39, 60, 27, 18, 9, 4, 9, 16]\n"
          ]
        }
      ]
    },
    {
      "cell_type": "code",
      "source": [
        "[(elemento) for elemento in idades if elemento > 21]"
      ],
      "metadata": {
        "colab": {
          "base_uri": "https://localhost:8080/"
        },
        "id": "q0ECSF-FkSnZ",
        "outputId": "1baa99bc-cca0-4180-bda2-0d3fa949546e"
      },
      "execution_count": null,
      "outputs": [
        {
          "output_type": "execute_result",
          "data": {
            "text/plain": [
              "[39, 60, 27]"
            ]
          },
          "metadata": {},
          "execution_count": 72
        }
      ]
    },
    {
      "cell_type": "code",
      "source": [
        "[elemento for elemento in idades if elemento <= 21]"
      ],
      "metadata": {
        "colab": {
          "base_uri": "https://localhost:8080/"
        },
        "id": "GrkMNvfQkwzL",
        "outputId": "f8f399d2-6a35-40d3-e501-9a7d1a8c8234"
      },
      "execution_count": null,
      "outputs": [
        {
          "output_type": "execute_result",
          "data": {
            "text/plain": [
              "[20, 18, 9, 4, 9, 16]"
            ]
          },
          "metadata": {},
          "execution_count": 78
        }
      ]
    },
    {
      "cell_type": "markdown",
      "source": [
        "# Em funções"
      ],
      "metadata": {
        "id": "pc6kaS-0mBC4"
      }
    },
    {
      "cell_type": "markdown",
      "source": [
        "em função alterar algo dentro da lista, também altera a original"
      ],
      "metadata": {
        "id": "g95CSUu0mEke"
      }
    },
    {
      "cell_type": "code",
      "source": [
        "def listaDoida(lista = []):\n",
        "  print(len(lista))\n",
        "  lista.append(9)"
      ],
      "metadata": {
        "id": "Kn8oTFgkmaSs"
      },
      "execution_count": null,
      "outputs": []
    },
    {
      "cell_type": "code",
      "source": [
        "listaDoida()\n",
        "listaDoida()\n",
        "listaDoida()\n",
        "listaDoida()\n",
        "listaDoida()\n",
        "listaDoida()"
      ],
      "metadata": {
        "colab": {
          "base_uri": "https://localhost:8080/"
        },
        "id": "jV42gK3fmh7N",
        "outputId": "c181fa73-ae01-4a58-efdd-059ff07089fb"
      },
      "execution_count": null,
      "outputs": [
        {
          "output_type": "stream",
          "name": "stdout",
          "text": [
            "6\n",
            "7\n",
            "8\n",
            "9\n",
            "10\n",
            "11\n"
          ]
        }
      ]
    },
    {
      "cell_type": "code",
      "source": [
        "def adicionaUm(lista):\n",
        "  lista.append(1)"
      ],
      "metadata": {
        "id": "ij4r9MMYmuOA"
      },
      "execution_count": null,
      "outputs": []
    },
    {
      "cell_type": "code",
      "source": [
        "listaOriginal = [1,2,3,4,5]\n",
        "print(\"A Lista no escopo Geral:\", listaOriginal)\n",
        "adicionaUm(listaOriginal)\n",
        "print(\"A lista depois que passar ela para adicionar um elemento dentro\\nde uma função:\", listaOriginal)"
      ],
      "metadata": {
        "colab": {
          "base_uri": "https://localhost:8080/"
        },
        "id": "wNCs-agymlKB",
        "outputId": "4576bd04-3341-4551-96b9-780c808f2c6c"
      },
      "execution_count": null,
      "outputs": [
        {
          "output_type": "stream",
          "name": "stdout",
          "text": [
            "A Lista no escopo Geral: [1, 2, 3, 4, 5]\n",
            "A lista depois que passar ela para adicionar um elemento dentro\n",
            "de uma função: [1, 2, 3, 4, 5, 1]\n"
          ]
        }
      ]
    },
    {
      "cell_type": "code",
      "source": [
        "def fazLista(lista = None):\n",
        "  if lista == None:\n",
        "    lista = []\n",
        "    return lista\n",
        "  print(len(lista))\n",
        "  lista.append(0)"
      ],
      "metadata": {
        "id": "n0dnvba_nNN2"
      },
      "execution_count": null,
      "outputs": []
    },
    {
      "cell_type": "code",
      "source": [
        "x = fazLista()\n",
        "y = fazLista()\n",
        "z = fazLista()\n",
        "fazLista(idades)"
      ],
      "metadata": {
        "colab": {
          "base_uri": "https://localhost:8080/"
        },
        "id": "sPjal4ejoEH3",
        "outputId": "6d1088ce-0918-4fd7-f5e2-d5736f786ec0"
      },
      "execution_count": null,
      "outputs": [
        {
          "output_type": "stream",
          "name": "stdout",
          "text": [
            "11\n"
          ]
        }
      ]
    },
    {
      "cell_type": "code",
      "source": [
        "print(idades)"
      ],
      "metadata": {
        "colab": {
          "base_uri": "https://localhost:8080/"
        },
        "id": "f1oPHL1UoGmG",
        "outputId": "c40819b6-7b26-40aa-d729-2a6bfd3241d3"
      },
      "execution_count": null,
      "outputs": [
        {
          "output_type": "stream",
          "name": "stdout",
          "text": [
            "[20, 39, 60, 27, 18, 9, 4, 9, 16, 0, 0, 0]\n"
          ]
        }
      ]
    },
    {
      "cell_type": "markdown",
      "source": [
        "# 💣 Objetos própios"
      ],
      "metadata": {
        "id": "L5bBPqoRpABw"
      }
    },
    {
      "cell_type": "code",
      "source": [
        "class ContaCorrente:\n",
        "  def __init__(self, codigo):\n",
        "    self.codigo = codigo\n",
        "    self.saldo = 0\n",
        "\n",
        "  def deposita(self, valor):\n",
        "    self.saldo += valor\n",
        "\n",
        "  #representação de string\n",
        "  def __str__(self):\n",
        "    return \"[>>Codigo {} Saldo {}<<]\".format(self.codigo, self.saldo)"
      ],
      "metadata": {
        "id": "mdyZB4rtoSR1"
      },
      "execution_count": null,
      "outputs": []
    },
    {
      "cell_type": "code",
      "source": [
        "contaEverton = ContaCorrente(1112)\n",
        "print(contaEverton)"
      ],
      "metadata": {
        "colab": {
          "base_uri": "https://localhost:8080/"
        },
        "id": "iGose6ujobQJ",
        "outputId": "1f9b74fd-1516-41bd-c4b4-113541c5ee6b"
      },
      "execution_count": null,
      "outputs": [
        {
          "output_type": "stream",
          "name": "stdout",
          "text": [
            "[>>Codigo 1112 Saldo 0<<]\n"
          ]
        }
      ]
    },
    {
      "cell_type": "code",
      "source": [
        "contaEverton.deposita(9879)\n",
        "print(contaEverton)"
      ],
      "metadata": {
        "colab": {
          "base_uri": "https://localhost:8080/"
        },
        "id": "YsPytiVJpyMz",
        "outputId": "27a4f2c6-1009-4043-902b-56057ef2c2dc"
      },
      "execution_count": null,
      "outputs": [
        {
          "output_type": "stream",
          "name": "stdout",
          "text": [
            "[>>Codigo 1112 Saldo 9879<<]\n"
          ]
        }
      ]
    },
    {
      "cell_type": "code",
      "source": [
        "contaMaria = ContaCorrente(1313)\n",
        "contaMaria.deposita(98799)\n",
        "print(contaMaria)"
      ],
      "metadata": {
        "colab": {
          "base_uri": "https://localhost:8080/"
        },
        "id": "vBMp-52VqAi1",
        "outputId": "cc7e82fa-0dab-46a6-91a6-ef86207804b4"
      },
      "execution_count": null,
      "outputs": [
        {
          "output_type": "stream",
          "name": "stdout",
          "text": [
            "[>>Codigo 1313 Saldo 98799<<]\n"
          ]
        }
      ]
    },
    {
      "cell_type": "code",
      "source": [
        "contas = [contaEverton, contaMaria]\n",
        "print(contas)"
      ],
      "metadata": {
        "colab": {
          "base_uri": "https://localhost:8080/"
        },
        "id": "pXtgrDLHp9P1",
        "outputId": "0090ed6f-0134-45e7-e433-0a8d718752fb"
      },
      "execution_count": null,
      "outputs": [
        {
          "output_type": "stream",
          "name": "stdout",
          "text": [
            "[<__main__.ContaCorrente object at 0x7f0d209ca990>, <__main__.ContaCorrente object at 0x7f0d209ca350>]\n"
          ]
        }
      ]
    },
    {
      "cell_type": "code",
      "source": [
        "for conta in contas:\n",
        "  #print de um objeto específico chama a representação de string dele\n",
        "  print(conta)"
      ],
      "metadata": {
        "colab": {
          "base_uri": "https://localhost:8080/"
        },
        "id": "OYFimpoNqWHa",
        "outputId": "9886dc82-f087-490b-8067-b4f172778bda"
      },
      "execution_count": null,
      "outputs": [
        {
          "output_type": "stream",
          "name": "stdout",
          "text": [
            "[>>Codigo 1112 Saldo 9879<<]\n",
            "[>>Codigo 1313 Saldo 98799<<]\n"
          ]
        }
      ]
    },
    {
      "cell_type": "code",
      "source": [
        "def deposita_para_todas(contas):\n",
        "  for elementoConta in contas:\n",
        "    elementoConta.deposita(100)\n",
        "\n",
        "print(contas[0], contas[1])\n",
        "deposita_para_todas(contas)\n",
        "print(contas[0], contas[1])"
      ],
      "metadata": {
        "colab": {
          "base_uri": "https://localhost:8080/"
        },
        "id": "G7dN2rQ0qcz0",
        "outputId": "e3718a8d-4218-4d09-b979-456e60cf068e"
      },
      "execution_count": null,
      "outputs": [
        {
          "output_type": "stream",
          "name": "stdout",
          "text": [
            "[>>Codigo 1112 Saldo 9879<<] [>>Codigo 1313 Saldo 98799<<]\n",
            "[>>Codigo 1112 Saldo 9979<<] [>>Codigo 1313 Saldo 98899<<]\n"
          ]
        }
      ]
    },
    {
      "cell_type": "markdown",
      "source": [
        "# 🌷 Tuplas"
      ],
      "metadata": {
        "id": "71ZDLitPtReE"
      }
    },
    {
      "cell_type": "markdown",
      "source": [
        "variação funcional"
      ],
      "metadata": {
        "id": "ioZXtwYJtv4G"
      }
    },
    {
      "cell_type": "code",
      "source": [
        "everton = (\"Everton\", 25, 1996)"
      ],
      "metadata": {
        "id": "-y9DZR6ktVd_"
      },
      "execution_count": null,
      "outputs": []
    },
    {
      "cell_type": "markdown",
      "source": [
        "# 🚛 Array"
      ],
      "metadata": {
        "id": "WevoHaivxXjL"
      }
    },
    {
      "cell_type": "code",
      "source": [
        "import array as arr"
      ],
      "metadata": {
        "id": "ZuZzYHUPxbp1"
      },
      "execution_count": null,
      "outputs": []
    },
    {
      "cell_type": "code",
      "source": [
        "arr.array('d', [1, 3.5])"
      ],
      "metadata": {
        "colab": {
          "base_uri": "https://localhost:8080/"
        },
        "id": "SsUFvaEhxeMw",
        "outputId": "c40d431a-ae23-46d2-a1d6-480ddeb1930c"
      },
      "execution_count": null,
      "outputs": [
        {
          "output_type": "execute_result",
          "data": {
            "text/plain": [
              "array('d', [1.0, 3.5])"
            ]
          },
          "metadata": {},
          "execution_count": 112
        }
      ]
    },
    {
      "cell_type": "markdown",
      "source": [
        "# ♦ New Project"
      ],
      "metadata": {
        "id": "1d3UucPTy0UO"
      }
    },
    {
      "cell_type": "code",
      "source": [
        "class ContaSalario:\n",
        "  def __init__(self, codigo):\n",
        "    self.codigo = codigo\n",
        "    self.saldo = 0\n",
        "\n",
        "  def deposita(self, valor):\n",
        "    self.saldo += valor\n",
        "\n",
        "  #representação de string\n",
        "  def __str__(self):\n",
        "    return \"[>>Codigo {} Saldo {}<<]\".format(self.codigo, self.saldo)\n",
        "\n",
        "  def __eq__(self, outro):\n",
        "    if type(outro) != ContaSalario:\n",
        "      return False\n",
        "    return self.codigo == outro.codigo"
      ],
      "metadata": {
        "id": "xuk91xbrxnVZ"
      },
      "execution_count": null,
      "outputs": []
    },
    {
      "cell_type": "code",
      "source": [
        "conta3 = ContaSalario(37)\n",
        "print(conta3)"
      ],
      "metadata": {
        "colab": {
          "base_uri": "https://localhost:8080/"
        },
        "id": "8fMVBUE8zCQp",
        "outputId": "d9b25c36-82d9-43f2-9112-8fcc659db25d"
      },
      "execution_count": null,
      "outputs": [
        {
          "output_type": "stream",
          "name": "stdout",
          "text": [
            "[>>Codigo 37 Saldo 0<<]\n"
          ]
        }
      ]
    },
    {
      "cell_type": "code",
      "source": [
        "conta4 = ContaSalario(37)\n",
        "print(conta4)"
      ],
      "metadata": {
        "colab": {
          "base_uri": "https://localhost:8080/"
        },
        "id": "ZUTkHKJUzKug",
        "outputId": "269d645d-0b1f-43ad-cb73-7c4ef65d3ed6"
      },
      "execution_count": null,
      "outputs": [
        {
          "output_type": "stream",
          "name": "stdout",
          "text": [
            "[>>Codigo 37 Saldo 0<<]\n"
          ]
        }
      ]
    },
    {
      "cell_type": "code",
      "source": [
        "print(conta4 == conta3)"
      ],
      "metadata": {
        "colab": {
          "base_uri": "https://localhost:8080/"
        },
        "id": "Oiv9t8kGzStW",
        "outputId": "d62391a6-3025-43e4-abbb-21d7a488a071"
      },
      "execution_count": null,
      "outputs": [
        {
          "output_type": "stream",
          "name": "stdout",
          "text": [
            "True\n"
          ]
        }
      ]
    },
    {
      "cell_type": "code",
      "source": [
        "numeros = [15, 87, 32, 45, 98, 77]\n",
        "\n",
        "for i in range(len(numeros)):\n",
        "  print(i, numeros[i])"
      ],
      "metadata": {
        "colab": {
          "base_uri": "https://localhost:8080/"
        },
        "id": "XXuklW3RzVeX",
        "outputId": "7f514787-922d-48fa-9603-70164b5c0a53"
      },
      "execution_count": null,
      "outputs": [
        {
          "output_type": "stream",
          "name": "stdout",
          "text": [
            "0 15\n",
            "1 87\n",
            "2 32\n",
            "3 45\n",
            "4 98\n",
            "5 77\n"
          ]
        }
      ]
    },
    {
      "cell_type": "code",
      "source": [
        "x = enumerate(numeros)"
      ],
      "metadata": {
        "id": "UqldhOCB1YM_"
      },
      "execution_count": null,
      "outputs": []
    },
    {
      "cell_type": "code",
      "source": [
        "x"
      ],
      "metadata": {
        "colab": {
          "base_uri": "https://localhost:8080/"
        },
        "id": "inx8yDBo1uSQ",
        "outputId": "9979aeb2-7dc8-4229-b021-a93e4cb09ab3"
      },
      "execution_count": null,
      "outputs": [
        {
          "output_type": "execute_result",
          "data": {
            "text/plain": [
              "<enumerate at 0x7f0d20a64aa0>"
            ]
          },
          "metadata": {},
          "execution_count": 145
        }
      ]
    },
    {
      "cell_type": "code",
      "source": [
        "list(range(len(numeros)))"
      ],
      "metadata": {
        "colab": {
          "base_uri": "https://localhost:8080/"
        },
        "id": "qJGxFPnG1u0P",
        "outputId": "56d3a276-ef18-472d-ff58-ab0c95e44373"
      },
      "execution_count": null,
      "outputs": [
        {
          "output_type": "execute_result",
          "data": {
            "text/plain": [
              "[0, 1, 2, 3, 4, 5]"
            ]
          },
          "metadata": {},
          "execution_count": 146
        }
      ]
    },
    {
      "cell_type": "code",
      "source": [
        "list(enumerate(numeros))"
      ],
      "metadata": {
        "colab": {
          "base_uri": "https://localhost:8080/"
        },
        "id": "Bm2GEum816eR",
        "outputId": "83d1592a-ed38-4905-db45-036888a53554"
      },
      "execution_count": null,
      "outputs": [
        {
          "output_type": "execute_result",
          "data": {
            "text/plain": [
              "[(0, 15), (1, 87), (2, 32), (3, 45), (4, 98), (5, 77)]"
            ]
          },
          "metadata": {},
          "execution_count": 147
        }
      ]
    },
    {
      "cell_type": "code",
      "source": [
        "for indice, valor in enumerate(numeros):\n",
        "  print(indice, \"-\", valor)"
      ],
      "metadata": {
        "colab": {
          "base_uri": "https://localhost:8080/"
        },
        "id": "Fg55KSXX1__-",
        "outputId": "9cf3009a-99df-46f4-df37-7f0e3cc5347a"
      },
      "execution_count": null,
      "outputs": [
        {
          "output_type": "stream",
          "name": "stdout",
          "text": [
            "0 - 15\n",
            "1 - 87\n",
            "2 - 32\n",
            "3 - 45\n",
            "4 - 98\n",
            "5 - 77\n"
          ]
        }
      ]
    },
    {
      "cell_type": "code",
      "source": [
        "#underline ignora uma posição\n",
        "for indice, _ in enumerate(numeros):\n",
        "  print(indice, \"-\", valor)"
      ],
      "metadata": {
        "id": "pgrOeKBW2Qyo"
      },
      "execution_count": null,
      "outputs": []
    },
    {
      "cell_type": "code",
      "source": [
        "tabuadaDois = [2,2,2,2,2,2,2,2,2,2,2]"
      ],
      "metadata": {
        "id": "Di_jioCr2wTC"
      },
      "execution_count": null,
      "outputs": []
    },
    {
      "cell_type": "code",
      "source": [
        "for indice, valor in enumerate(tabuadaDois):\n",
        "  print(valor, \"x\", indice, \"=\", indice*valor)"
      ],
      "metadata": {
        "colab": {
          "base_uri": "https://localhost:8080/"
        },
        "id": "0xGZ1qdv2x85",
        "outputId": "7f6d091d-842e-432e-a4ac-fc088ff9bc99"
      },
      "execution_count": null,
      "outputs": [
        {
          "output_type": "stream",
          "name": "stdout",
          "text": [
            "2 x 0 = 0\n",
            "2 x 1 = 2\n",
            "2 x 2 = 4\n",
            "2 x 3 = 6\n",
            "2 x 4 = 8\n",
            "2 x 5 = 10\n",
            "2 x 6 = 12\n",
            "2 x 7 = 14\n",
            "2 x 8 = 16\n",
            "2 x 9 = 18\n",
            "2 x 10 = 20\n"
          ]
        }
      ]
    },
    {
      "cell_type": "code",
      "source": [
        "h = list(range(99))"
      ],
      "metadata": {
        "id": "cKOa5zxw3GP8"
      },
      "execution_count": null,
      "outputs": []
    },
    {
      "cell_type": "code",
      "source": [
        "print(h)"
      ],
      "metadata": {
        "colab": {
          "base_uri": "https://localhost:8080/"
        },
        "id": "SttWg8WV3sG0",
        "outputId": "c5f1a291-2369-4e2a-f85c-9a8879fb2a5d"
      },
      "execution_count": null,
      "outputs": [
        {
          "output_type": "stream",
          "name": "stdout",
          "text": [
            "[0, 1, 2, 3, 4, 5, 6, 7, 8, 9, 10, 11, 12, 13, 14, 15, 16, 17, 18, 19, 20, 21, 22, 23, 24, 25, 26, 27, 28, 29, 30, 31, 32, 33, 34, 35, 36, 37, 38, 39, 40, 41, 42, 43, 44, 45, 46, 47, 48, 49, 50, 51, 52, 53, 54, 55, 56, 57, 58, 59, 60, 61, 62, 63, 64, 65, 66, 67, 68, 69, 70, 71, 72, 73, 74, 75, 76, 77, 78, 79, 80, 81, 82, 83, 84, 85, 86, 87, 88, 89, 90, 91, 92, 93, 94, 95, 96, 97, 98]\n"
          ]
        }
      ]
    },
    {
      "cell_type": "code",
      "source": [
        "print(h)\n",
        "print(reversed(h)) \n",
        "print(h)\n",
        "print(sorted(h))\n",
        "print(h)\n",
        "print(sorted(h, reverse=True))\n",
        "print(h)"
      ],
      "metadata": {
        "colab": {
          "base_uri": "https://localhost:8080/"
        },
        "id": "qEb3ZsM23s9m",
        "outputId": "7cda309e-bad8-4cfa-e1d5-69e7d03e5878"
      },
      "execution_count": null,
      "outputs": [
        {
          "output_type": "stream",
          "name": "stdout",
          "text": [
            "[0, 1, 2, 3, 4, 5, 6, 7, 8, 9, 10, 11, 12, 13, 14, 15, 16, 17, 18, 19, 20, 21, 22, 23, 24, 25, 26, 27, 28, 29, 30, 31, 32, 33, 34, 35, 36, 37, 38, 39, 40, 41, 42, 43, 44, 45, 46, 47, 48, 49, 50, 51, 52, 53, 54, 55, 56, 57, 58, 59, 60, 61, 62, 63, 64, 65, 66, 67, 68, 69, 70, 71, 72, 73, 74, 75, 76, 77, 78, 79, 80, 81, 82, 83, 84, 85, 86, 87, 88, 89, 90, 91, 92, 93, 94, 95, 96, 97, 98]\n",
            "<list_reverseiterator object at 0x7f0d20b28a50>\n",
            "[0, 1, 2, 3, 4, 5, 6, 7, 8, 9, 10, 11, 12, 13, 14, 15, 16, 17, 18, 19, 20, 21, 22, 23, 24, 25, 26, 27, 28, 29, 30, 31, 32, 33, 34, 35, 36, 37, 38, 39, 40, 41, 42, 43, 44, 45, 46, 47, 48, 49, 50, 51, 52, 53, 54, 55, 56, 57, 58, 59, 60, 61, 62, 63, 64, 65, 66, 67, 68, 69, 70, 71, 72, 73, 74, 75, 76, 77, 78, 79, 80, 81, 82, 83, 84, 85, 86, 87, 88, 89, 90, 91, 92, 93, 94, 95, 96, 97, 98]\n",
            "[0, 1, 2, 3, 4, 5, 6, 7, 8, 9, 10, 11, 12, 13, 14, 15, 16, 17, 18, 19, 20, 21, 22, 23, 24, 25, 26, 27, 28, 29, 30, 31, 32, 33, 34, 35, 36, 37, 38, 39, 40, 41, 42, 43, 44, 45, 46, 47, 48, 49, 50, 51, 52, 53, 54, 55, 56, 57, 58, 59, 60, 61, 62, 63, 64, 65, 66, 67, 68, 69, 70, 71, 72, 73, 74, 75, 76, 77, 78, 79, 80, 81, 82, 83, 84, 85, 86, 87, 88, 89, 90, 91, 92, 93, 94, 95, 96, 97, 98]\n",
            "[0, 1, 2, 3, 4, 5, 6, 7, 8, 9, 10, 11, 12, 13, 14, 15, 16, 17, 18, 19, 20, 21, 22, 23, 24, 25, 26, 27, 28, 29, 30, 31, 32, 33, 34, 35, 36, 37, 38, 39, 40, 41, 42, 43, 44, 45, 46, 47, 48, 49, 50, 51, 52, 53, 54, 55, 56, 57, 58, 59, 60, 61, 62, 63, 64, 65, 66, 67, 68, 69, 70, 71, 72, 73, 74, 75, 76, 77, 78, 79, 80, 81, 82, 83, 84, 85, 86, 87, 88, 89, 90, 91, 92, 93, 94, 95, 96, 97, 98]\n",
            "[98, 97, 96, 95, 94, 93, 92, 91, 90, 89, 88, 87, 86, 85, 84, 83, 82, 81, 80, 79, 78, 77, 76, 75, 74, 73, 72, 71, 70, 69, 68, 67, 66, 65, 64, 63, 62, 61, 60, 59, 58, 57, 56, 55, 54, 53, 52, 51, 50, 49, 48, 47, 46, 45, 44, 43, 42, 41, 40, 39, 38, 37, 36, 35, 34, 33, 32, 31, 30, 29, 28, 27, 26, 25, 24, 23, 22, 21, 20, 19, 18, 17, 16, 15, 14, 13, 12, 11, 10, 9, 8, 7, 6, 5, 4, 3, 2, 1, 0]\n",
            "[0, 1, 2, 3, 4, 5, 6, 7, 8, 9, 10, 11, 12, 13, 14, 15, 16, 17, 18, 19, 20, 21, 22, 23, 24, 25, 26, 27, 28, 29, 30, 31, 32, 33, 34, 35, 36, 37, 38, 39, 40, 41, 42, 43, 44, 45, 46, 47, 48, 49, 50, 51, 52, 53, 54, 55, 56, 57, 58, 59, 60, 61, 62, 63, 64, 65, 66, 67, 68, 69, 70, 71, 72, 73, 74, 75, 76, 77, 78, 79, 80, 81, 82, 83, 84, 85, 86, 87, 88, 89, 90, 91, 92, 93, 94, 95, 96, 97, 98]\n"
          ]
        }
      ]
    },
    {
      "cell_type": "code",
      "source": [
        "nomes = [\"Everton\", \"Ana\", \"Bruno\"]\n",
        "sorted(nomes)"
      ],
      "metadata": {
        "colab": {
          "base_uri": "https://localhost:8080/"
        },
        "id": "G4SZIzSw365v",
        "outputId": "ff753082-b970-452b-e7d6-f53825d3e6fe"
      },
      "execution_count": null,
      "outputs": [
        {
          "output_type": "execute_result",
          "data": {
            "text/plain": [
              "['Ana', 'Bruno', 'Everton']"
            ]
          },
          "metadata": {},
          "execution_count": 164
        }
      ]
    },
    {
      "cell_type": "code",
      "source": [
        "class ContaSalario:\n",
        "  def __init__(self, codigo):\n",
        "    self.codigo = codigo\n",
        "    self.saldo = 0\n",
        "\n",
        "  def deposita(self, valor):\n",
        "    self.saldo += valor\n",
        "\n",
        "  #representação de string\n",
        "  def __str__(self):\n",
        "    return \"[>>Codigo {} Saldo {}<<]\".format(self.codigo, self.saldo)\n",
        "\n",
        "  def __eq__(self, outro):\n",
        "    if type(outro) != ContaSalario:\n",
        "      return False\n",
        "    return self.codigo == outro.codigo\n",
        "\n",
        "  def __lt__(self, outro):\n",
        "    return self.saldo < outro.saldo"
      ],
      "metadata": {
        "id": "5U3Wu79K40Pm"
      },
      "execution_count": null,
      "outputs": []
    },
    {
      "cell_type": "code",
      "source": [
        "conta90 = ContaSalario(13)\n",
        "conta90.deposita(300)\n",
        "conta91 = ContaSalario(12)\n",
        "conta91.deposita(400)\n",
        "conta90 < conta91"
      ],
      "metadata": {
        "colab": {
          "base_uri": "https://localhost:8080/"
        },
        "id": "fupain5Q8IeQ",
        "outputId": "4a2846ea-62b3-4e29-fb93-4cb27095a49d"
      },
      "execution_count": null,
      "outputs": [
        {
          "output_type": "execute_result",
          "data": {
            "text/plain": [
              "True"
            ]
          },
          "metadata": {},
          "execution_count": 179
        }
      ]
    },
    {
      "cell_type": "code",
      "source": [
        ""
      ],
      "metadata": {
        "id": "UhAaH6od8K01"
      },
      "execution_count": null,
      "outputs": []
    }
  ]
}